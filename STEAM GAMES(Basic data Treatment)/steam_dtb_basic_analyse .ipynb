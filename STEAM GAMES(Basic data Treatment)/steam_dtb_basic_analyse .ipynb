{
 "cells": [
  {
   "cell_type": "markdown",
   "id": "c49e3b43",
   "metadata": {},
   "source": [
    "# STEAM GAMES(Basic Analyse & Treatment)\n",
    "#### The database used for this study is at https://www.kaggle.com/datasets/tamber/steam-video-games?resource=download"
   ]
  },
  {
   "cell_type": "code",
   "execution_count": 23,
   "id": "4724587e",
   "metadata": {},
   "outputs": [],
   "source": [
    "import pandas as pd\n",
    "import seaborn as sns\n",
    "import numpy as np\n",
    "import matplotlib.pyplot as plt"
   ]
  },
  {
   "cell_type": "code",
   "execution_count": 24,
   "id": "307a06cf",
   "metadata": {},
   "outputs": [
    {
     "data": {
      "text/html": [
       "<div>\n",
       "<style scoped>\n",
       "    .dataframe tbody tr th:only-of-type {\n",
       "        vertical-align: middle;\n",
       "    }\n",
       "\n",
       "    .dataframe tbody tr th {\n",
       "        vertical-align: top;\n",
       "    }\n",
       "\n",
       "    .dataframe thead th {\n",
       "        text-align: right;\n",
       "    }\n",
       "</style>\n",
       "<table border=\"1\" class=\"dataframe\">\n",
       "  <thead>\n",
       "    <tr style=\"text-align: right;\">\n",
       "      <th></th>\n",
       "      <th>151603712</th>\n",
       "      <th>The Elder Scrolls V Skyrim</th>\n",
       "      <th>purchase</th>\n",
       "      <th>1.0</th>\n",
       "      <th>0</th>\n",
       "    </tr>\n",
       "  </thead>\n",
       "  <tbody>\n",
       "    <tr>\n",
       "      <th>0</th>\n",
       "      <td>151603712</td>\n",
       "      <td>The Elder Scrolls V Skyrim</td>\n",
       "      <td>play</td>\n",
       "      <td>273.0</td>\n",
       "      <td>0</td>\n",
       "    </tr>\n",
       "    <tr>\n",
       "      <th>1</th>\n",
       "      <td>151603712</td>\n",
       "      <td>Fallout 4</td>\n",
       "      <td>purchase</td>\n",
       "      <td>1.0</td>\n",
       "      <td>0</td>\n",
       "    </tr>\n",
       "    <tr>\n",
       "      <th>2</th>\n",
       "      <td>151603712</td>\n",
       "      <td>Fallout 4</td>\n",
       "      <td>play</td>\n",
       "      <td>87.0</td>\n",
       "      <td>0</td>\n",
       "    </tr>\n",
       "    <tr>\n",
       "      <th>3</th>\n",
       "      <td>151603712</td>\n",
       "      <td>Spore</td>\n",
       "      <td>purchase</td>\n",
       "      <td>1.0</td>\n",
       "      <td>0</td>\n",
       "    </tr>\n",
       "    <tr>\n",
       "      <th>4</th>\n",
       "      <td>151603712</td>\n",
       "      <td>Spore</td>\n",
       "      <td>play</td>\n",
       "      <td>14.9</td>\n",
       "      <td>0</td>\n",
       "    </tr>\n",
       "    <tr>\n",
       "      <th>5</th>\n",
       "      <td>151603712</td>\n",
       "      <td>Fallout New Vegas</td>\n",
       "      <td>purchase</td>\n",
       "      <td>1.0</td>\n",
       "      <td>0</td>\n",
       "    </tr>\n",
       "  </tbody>\n",
       "</table>\n",
       "</div>"
      ],
      "text/plain": [
       "   151603712  The Elder Scrolls V Skyrim  purchase    1.0  0\n",
       "0  151603712  The Elder Scrolls V Skyrim      play  273.0  0\n",
       "1  151603712                   Fallout 4  purchase    1.0  0\n",
       "2  151603712                   Fallout 4      play   87.0  0\n",
       "3  151603712                       Spore  purchase    1.0  0\n",
       "4  151603712                       Spore      play   14.9  0\n",
       "5  151603712           Fallout New Vegas  purchase    1.0  0"
      ]
     },
     "execution_count": 24,
     "metadata": {},
     "output_type": "execute_result"
    }
   ],
   "source": [
    "st_datab = pd.read_csv('steam-200k.csv')\n",
    "st_datab.head(6)"
   ]
  },
  {
   "cell_type": "code",
   "execution_count": 25,
   "id": "4fa903d3",
   "metadata": {},
   "outputs": [],
   "source": [
    "st_datab.rename(columns={'151603712':'user_id', 'The Elder Scrolls V Skyrim': 'games', 'purchase': 'status', '1.0': 'time_played'}, inplace=True)\n",
    "st_datab.drop(columns=['0'], inplace=True)"
   ]
  },
  {
   "cell_type": "code",
   "execution_count": 26,
   "id": "7d84033b",
   "metadata": {},
   "outputs": [
    {
     "data": {
      "text/html": [
       "<div>\n",
       "<style scoped>\n",
       "    .dataframe tbody tr th:only-of-type {\n",
       "        vertical-align: middle;\n",
       "    }\n",
       "\n",
       "    .dataframe tbody tr th {\n",
       "        vertical-align: top;\n",
       "    }\n",
       "\n",
       "    .dataframe thead th {\n",
       "        text-align: right;\n",
       "    }\n",
       "</style>\n",
       "<table border=\"1\" class=\"dataframe\">\n",
       "  <thead>\n",
       "    <tr style=\"text-align: right;\">\n",
       "      <th></th>\n",
       "      <th>user_id</th>\n",
       "      <th>games</th>\n",
       "      <th>status</th>\n",
       "      <th>time_played</th>\n",
       "    </tr>\n",
       "  </thead>\n",
       "  <tbody>\n",
       "    <tr>\n",
       "      <th>0</th>\n",
       "      <td>151603712</td>\n",
       "      <td>The Elder Scrolls V Skyrim</td>\n",
       "      <td>play</td>\n",
       "      <td>273.0</td>\n",
       "    </tr>\n",
       "    <tr>\n",
       "      <th>1</th>\n",
       "      <td>151603712</td>\n",
       "      <td>Fallout 4</td>\n",
       "      <td>purchase</td>\n",
       "      <td>1.0</td>\n",
       "    </tr>\n",
       "    <tr>\n",
       "      <th>2</th>\n",
       "      <td>151603712</td>\n",
       "      <td>Fallout 4</td>\n",
       "      <td>play</td>\n",
       "      <td>87.0</td>\n",
       "    </tr>\n",
       "    <tr>\n",
       "      <th>3</th>\n",
       "      <td>151603712</td>\n",
       "      <td>Spore</td>\n",
       "      <td>purchase</td>\n",
       "      <td>1.0</td>\n",
       "    </tr>\n",
       "    <tr>\n",
       "      <th>4</th>\n",
       "      <td>151603712</td>\n",
       "      <td>Spore</td>\n",
       "      <td>play</td>\n",
       "      <td>14.9</td>\n",
       "    </tr>\n",
       "  </tbody>\n",
       "</table>\n",
       "</div>"
      ],
      "text/plain": [
       "     user_id                       games    status  time_played\n",
       "0  151603712  The Elder Scrolls V Skyrim      play        273.0\n",
       "1  151603712                   Fallout 4  purchase          1.0\n",
       "2  151603712                   Fallout 4      play         87.0\n",
       "3  151603712                       Spore  purchase          1.0\n",
       "4  151603712                       Spore      play         14.9"
      ]
     },
     "execution_count": 26,
     "metadata": {},
     "output_type": "execute_result"
    }
   ],
   "source": [
    "ex_title_element = [(151603712, 'The Elder Scrolls V Skyrim', 'purchase', 1.0)]\n",
    "dfnew_e = pd.DataFrame(ex_title_element, columns = ['user_id', 'games' , 'status', 'time_played'])\n",
    "st_datab = st_datab.append(dfnew_e, ignore_index=True)\n",
    "st_datab.head(5)"
   ]
  },
  {
   "cell_type": "code",
   "execution_count": 27,
   "id": "f8cb37e7",
   "metadata": {},
   "outputs": [
    {
     "data": {
      "text/html": [
       "<div>\n",
       "<style scoped>\n",
       "    .dataframe tbody tr th:only-of-type {\n",
       "        vertical-align: middle;\n",
       "    }\n",
       "\n",
       "    .dataframe tbody tr th {\n",
       "        vertical-align: top;\n",
       "    }\n",
       "\n",
       "    .dataframe thead th {\n",
       "        text-align: right;\n",
       "    }\n",
       "</style>\n",
       "<table border=\"1\" class=\"dataframe\">\n",
       "  <thead>\n",
       "    <tr style=\"text-align: right;\">\n",
       "      <th></th>\n",
       "      <th>user_id</th>\n",
       "      <th>time_played</th>\n",
       "    </tr>\n",
       "  </thead>\n",
       "  <tbody>\n",
       "    <tr>\n",
       "      <th>count</th>\n",
       "      <td>2.000000e+05</td>\n",
       "      <td>200000.000000</td>\n",
       "    </tr>\n",
       "    <tr>\n",
       "      <th>mean</th>\n",
       "      <td>1.036559e+08</td>\n",
       "      <td>17.874384</td>\n",
       "    </tr>\n",
       "    <tr>\n",
       "      <th>std</th>\n",
       "      <td>7.208074e+07</td>\n",
       "      <td>138.056952</td>\n",
       "    </tr>\n",
       "    <tr>\n",
       "      <th>min</th>\n",
       "      <td>5.250000e+03</td>\n",
       "      <td>0.100000</td>\n",
       "    </tr>\n",
       "    <tr>\n",
       "      <th>25%</th>\n",
       "      <td>4.738420e+07</td>\n",
       "      <td>1.000000</td>\n",
       "    </tr>\n",
       "    <tr>\n",
       "      <th>50%</th>\n",
       "      <td>8.691201e+07</td>\n",
       "      <td>1.000000</td>\n",
       "    </tr>\n",
       "    <tr>\n",
       "      <th>75%</th>\n",
       "      <td>1.542309e+08</td>\n",
       "      <td>1.300000</td>\n",
       "    </tr>\n",
       "    <tr>\n",
       "      <th>max</th>\n",
       "      <td>3.099031e+08</td>\n",
       "      <td>11754.000000</td>\n",
       "    </tr>\n",
       "  </tbody>\n",
       "</table>\n",
       "</div>"
      ],
      "text/plain": [
       "            user_id    time_played\n",
       "count  2.000000e+05  200000.000000\n",
       "mean   1.036559e+08      17.874384\n",
       "std    7.208074e+07     138.056952\n",
       "min    5.250000e+03       0.100000\n",
       "25%    4.738420e+07       1.000000\n",
       "50%    8.691201e+07       1.000000\n",
       "75%    1.542309e+08       1.300000\n",
       "max    3.099031e+08   11754.000000"
      ]
     },
     "execution_count": 27,
     "metadata": {},
     "output_type": "execute_result"
    }
   ],
   "source": [
    "st_datab.describe()"
   ]
  },
  {
   "cell_type": "code",
   "execution_count": 28,
   "id": "f3291b57",
   "metadata": {},
   "outputs": [
    {
     "data": {
      "text/html": [
       "<div>\n",
       "<style scoped>\n",
       "    .dataframe tbody tr th:only-of-type {\n",
       "        vertical-align: middle;\n",
       "    }\n",
       "\n",
       "    .dataframe tbody tr th {\n",
       "        vertical-align: top;\n",
       "    }\n",
       "\n",
       "    .dataframe thead th {\n",
       "        text-align: right;\n",
       "    }\n",
       "</style>\n",
       "<table border=\"1\" class=\"dataframe\">\n",
       "  <thead>\n",
       "    <tr style=\"text-align: right;\">\n",
       "      <th></th>\n",
       "      <th>user_id</th>\n",
       "      <th>games</th>\n",
       "      <th>status</th>\n",
       "      <th>time_played</th>\n",
       "    </tr>\n",
       "  </thead>\n",
       "  <tbody>\n",
       "    <tr>\n",
       "      <th>0</th>\n",
       "      <td>151603712</td>\n",
       "      <td>The Elder Scrolls V Skyrim</td>\n",
       "      <td>play</td>\n",
       "      <td>273.0</td>\n",
       "    </tr>\n",
       "    <tr>\n",
       "      <th>1</th>\n",
       "      <td>151603712</td>\n",
       "      <td>Fallout 4</td>\n",
       "      <td>purchase</td>\n",
       "      <td>1.0</td>\n",
       "    </tr>\n",
       "    <tr>\n",
       "      <th>2</th>\n",
       "      <td>151603712</td>\n",
       "      <td>Fallout 4</td>\n",
       "      <td>play</td>\n",
       "      <td>87.0</td>\n",
       "    </tr>\n",
       "    <tr>\n",
       "      <th>3</th>\n",
       "      <td>151603712</td>\n",
       "      <td>Spore</td>\n",
       "      <td>purchase</td>\n",
       "      <td>1.0</td>\n",
       "    </tr>\n",
       "    <tr>\n",
       "      <th>4</th>\n",
       "      <td>151603712</td>\n",
       "      <td>Spore</td>\n",
       "      <td>play</td>\n",
       "      <td>14.9</td>\n",
       "    </tr>\n",
       "  </tbody>\n",
       "</table>\n",
       "</div>"
      ],
      "text/plain": [
       "     user_id                       games    status  time_played\n",
       "0  151603712  The Elder Scrolls V Skyrim      play        273.0\n",
       "1  151603712                   Fallout 4  purchase          1.0\n",
       "2  151603712                   Fallout 4      play         87.0\n",
       "3  151603712                       Spore  purchase          1.0\n",
       "4  151603712                       Spore      play         14.9"
      ]
     },
     "execution_count": 28,
     "metadata": {},
     "output_type": "execute_result"
    }
   ],
   "source": [
    "st_datab.head(5)"
   ]
  },
  {
   "cell_type": "code",
   "execution_count": 29,
   "id": "ae8942a9",
   "metadata": {},
   "outputs": [
    {
     "data": {
      "text/plain": [
       "<AxesSubplot:ylabel='time_played'>"
      ]
     },
     "execution_count": 29,
     "metadata": {},
     "output_type": "execute_result"
    },
    {
     "data": {
      "image/png": "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\n",
      "text/plain": [
       "<Figure size 432x288 with 1 Axes>"
      ]
     },
     "metadata": {
      "needs_background": "light"
     },
     "output_type": "display_data"
    }
   ],
   "source": [
    "sns.scatterplot(data = st_datab['time_played'])"
   ]
  },
  {
   "cell_type": "code",
   "execution_count": 30,
   "id": "fddc9b1a",
   "metadata": {},
   "outputs": [
    {
     "name": "stdout",
     "output_type": "stream",
     "text": [
      "Dota 2                             9682\n",
      "Team Fortress 2                    4646\n",
      "Counter-Strike Global Offensive    2789\n",
      "Unturned                           2632\n",
      "Left 4 Dead 2                      1752\n",
      "                                   ... \n",
      "Putt-Putt Joins the Parade            1\n",
      "Ducati World Championship             1\n",
      "Chunk of Change Knight                1\n",
      "STASIS                                1\n",
      "Soccertron                            1\n",
      "Name: games, Length: 5155, dtype: int64\n",
      "\n",
      "purchase    129511\n",
      "play         70489\n",
      "Name: status, dtype: int64\n",
      "\n",
      "1.0       130569\n",
      "0.2         3016\n",
      "0.3         2517\n",
      "0.4         2129\n",
      "0.5         1813\n",
      "           ...  \n",
      "724.0          1\n",
      "737.0          1\n",
      "3503.0         1\n",
      "1397.0         1\n",
      "1310.0         1\n",
      "Name: time_played, Length: 1593, dtype: int64\n",
      "\n"
     ]
    }
   ],
   "source": [
    "print(str(st_datab['games'].value_counts(dropna = False)) + '\\n')\n",
    "print(str(st_datab['status'].value_counts(dropna = False)) + '\\n')\n",
    "print(str(st_datab['time_played'].value_counts(dropna = False)) + '\\n')"
   ]
  },
  {
   "cell_type": "code",
   "execution_count": 32,
   "id": "dc6c49c5",
   "metadata": {},
   "outputs": [
    {
     "name": "stdout",
     "output_type": "stream",
     "text": [
      "Player who played the most in a given game\n",
      "\n",
      "         user_id                       games status  time_played\n",
      "123725  73017395  Sid Meier's Civilization V   play      11754.0\n",
      "\n",
      "Player who played the least in a given game\n",
      "\n",
      "          user_id                              games status  time_played\n",
      "48      151603712                        Garry's Mod   play          0.1\n",
      "50      151603712                           Jazzpunk   play          0.1\n",
      "108      59945701  Company of Heroes Opposing Fronts   play          0.1\n",
      "110      59945701                    Team Fortress 2   play          0.1\n",
      "509      53875128                    BIT.TRIP RUNNER   play          0.1\n",
      "...           ...                                ...    ...          ...\n",
      "198966   65729155      Counter-Strike Condition Zero   play          0.1\n",
      "199094  154145611                        Cry of Fear   play          0.1\n",
      "199096  154145611                       Just Cause 2   play          0.1\n",
      "199273  154531790                             Dota 2   play          0.1\n",
      "199299   73726855                        Astro Lords   play          0.1\n",
      "\n",
      "[1787 rows x 4 columns]\n",
      "\n"
     ]
    }
   ],
   "source": [
    "print('Player who played the most in a given game\\n')\n",
    "print(str(st_datab.loc[st_datab['time_played'] == st_datab['time_played'].max()]) + '\\n')\n",
    "print('Player who played the least in a given game\\n')\n",
    "print(str(st_datab.loc[st_datab['time_played'] == st_datab['time_played'].min()]) + '\\n')"
   ]
  },
  {
   "cell_type": "code",
   "execution_count": 35,
   "id": "0677697a",
   "metadata": {},
   "outputs": [
    {
     "data": {
      "text/plain": [
       "games\n",
       "007 Legends                                                     2\n",
       "0RBITALIS                                                       6\n",
       "1... 2... 3... KICK IT! (Drop That Beat Like an Ugly Baby)     12\n",
       "10 Second Ninja                                                 8\n",
       "10,000,000                                                      2\n",
       "                                                             ... \n",
       "sZone-Online                                                  160\n",
       "samurai_jazz                                                    1\n",
       "the static speaks my name                                      21\n",
       "theHunter                                                     372\n",
       "theHunter Primal                                                8\n",
       "Length: 5155, dtype: int64"
      ]
     },
     "execution_count": 35,
     "metadata": {},
     "output_type": "execute_result"
    }
   ],
   "source": [
    "st_datab.groupby(['games']).size()"
   ]
  }
 }
}

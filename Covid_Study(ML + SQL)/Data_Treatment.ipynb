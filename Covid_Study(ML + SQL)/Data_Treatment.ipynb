{
 "cells": [
  {
   "cell_type": "markdown",
   "id": "3b485cd2",
   "metadata": {},
   "source": [
    "# Data Treatment\n",
    "Treatment of kaggle site databases. Link: https://www.kaggle.com/datasets/unanimad/corona-virus-brazil"
   ]
  },
  {
   "cell_type": "code",
   "execution_count": 1,
   "id": "9ebc44ab",
   "metadata": {},
   "outputs": [],
   "source": [
    "import pandas as pd \n",
    "import numpy as np\n",
    "import seaborn as sns\n",
    "import matplotlib.pyplot as plt"
   ]
  },
  {
   "cell_type": "markdown",
   "id": "d286d1e6",
   "metadata": {},
   "source": [
    "## Treatment in brazil_covid19_macro.csv"
   ]
  },
  {
   "cell_type": "code",
   "execution_count": 28,
   "id": "15df7ebf",
   "metadata": {},
   "outputs": [
    {
     "data": {
      "text/html": [
       "<div>\n",
       "<style scoped>\n",
       "    .dataframe tbody tr th:only-of-type {\n",
       "        vertical-align: middle;\n",
       "    }\n",
       "\n",
       "    .dataframe tbody tr th {\n",
       "        vertical-align: top;\n",
       "    }\n",
       "\n",
       "    .dataframe thead th {\n",
       "        text-align: right;\n",
       "    }\n",
       "</style>\n",
       "<table border=\"1\" class=\"dataframe\">\n",
       "  <thead>\n",
       "    <tr style=\"text-align: right;\">\n",
       "      <th></th>\n",
       "      <th>date</th>\n",
       "      <th>country</th>\n",
       "      <th>week</th>\n",
       "      <th>cases</th>\n",
       "      <th>deaths</th>\n",
       "      <th>recovered</th>\n",
       "      <th>monitoring</th>\n",
       "    </tr>\n",
       "  </thead>\n",
       "  <tbody>\n",
       "    <tr>\n",
       "      <th>0</th>\n",
       "      <td>2020-02-25</td>\n",
       "      <td>Brasil</td>\n",
       "      <td>9</td>\n",
       "      <td>0</td>\n",
       "      <td>0</td>\n",
       "      <td>NaN</td>\n",
       "      <td>NaN</td>\n",
       "    </tr>\n",
       "    <tr>\n",
       "      <th>1</th>\n",
       "      <td>2020-02-26</td>\n",
       "      <td>Brasil</td>\n",
       "      <td>9</td>\n",
       "      <td>1</td>\n",
       "      <td>0</td>\n",
       "      <td>NaN</td>\n",
       "      <td>NaN</td>\n",
       "    </tr>\n",
       "    <tr>\n",
       "      <th>2</th>\n",
       "      <td>2020-02-27</td>\n",
       "      <td>Brasil</td>\n",
       "      <td>9</td>\n",
       "      <td>1</td>\n",
       "      <td>0</td>\n",
       "      <td>NaN</td>\n",
       "      <td>NaN</td>\n",
       "    </tr>\n",
       "    <tr>\n",
       "      <th>3</th>\n",
       "      <td>2020-02-28</td>\n",
       "      <td>Brasil</td>\n",
       "      <td>9</td>\n",
       "      <td>1</td>\n",
       "      <td>0</td>\n",
       "      <td>NaN</td>\n",
       "      <td>NaN</td>\n",
       "    </tr>\n",
       "    <tr>\n",
       "      <th>4</th>\n",
       "      <td>2020-02-29</td>\n",
       "      <td>Brasil</td>\n",
       "      <td>9</td>\n",
       "      <td>2</td>\n",
       "      <td>0</td>\n",
       "      <td>NaN</td>\n",
       "      <td>NaN</td>\n",
       "    </tr>\n",
       "  </tbody>\n",
       "</table>\n",
       "</div>"
      ],
      "text/plain": [
       "         date country  week  cases  deaths  recovered  monitoring\n",
       "0  2020-02-25  Brasil     9      0       0        NaN         NaN\n",
       "1  2020-02-26  Brasil     9      1       0        NaN         NaN\n",
       "2  2020-02-27  Brasil     9      1       0        NaN         NaN\n",
       "3  2020-02-28  Brasil     9      1       0        NaN         NaN\n",
       "4  2020-02-29  Brasil     9      2       0        NaN         NaN"
      ]
     },
     "execution_count": 28,
     "metadata": {},
     "output_type": "execute_result"
    }
   ],
   "source": [
    "#the data from database(macro) was converted from csv to xlsx\n",
    "df_macro = pd.read_excel(\"brazil_covid19_macro.xlsx\")\n",
    "df_macro.head(5)"
   ]
  },
  {
   "cell_type": "markdown",
   "id": "f0f0a2e1",
   "metadata": {},
   "source": [
    "Treatment for NaN cases"
   ]
  },
  {
   "cell_type": "code",
   "execution_count": 29,
   "id": "613917c9",
   "metadata": {},
   "outputs": [
    {
     "name": "stdout",
     "output_type": "stream",
     "text": [
      "55\n",
      "55\n"
     ]
    }
   ],
   "source": [
    "print(df_macro['recovered'].isna().sum())\n",
    "print(df_macro['monitoring'].isna().sum())"
   ]
  },
  {
   "cell_type": "code",
   "execution_count": 30,
   "id": "e8bbe313",
   "metadata": {},
   "outputs": [
    {
     "data": {
      "text/html": [
       "<div>\n",
       "<style scoped>\n",
       "    .dataframe tbody tr th:only-of-type {\n",
       "        vertical-align: middle;\n",
       "    }\n",
       "\n",
       "    .dataframe tbody tr th {\n",
       "        vertical-align: top;\n",
       "    }\n",
       "\n",
       "    .dataframe thead th {\n",
       "        text-align: right;\n",
       "    }\n",
       "</style>\n",
       "<table border=\"1\" class=\"dataframe\">\n",
       "  <thead>\n",
       "    <tr style=\"text-align: right;\">\n",
       "      <th></th>\n",
       "      <th>week</th>\n",
       "      <th>cases</th>\n",
       "      <th>deaths</th>\n",
       "      <th>recovered</th>\n",
       "      <th>monitoring</th>\n",
       "    </tr>\n",
       "  </thead>\n",
       "  <tbody>\n",
       "    <tr>\n",
       "      <th>count</th>\n",
       "      <td>456.000000</td>\n",
       "      <td>4.560000e+02</td>\n",
       "      <td>456.000000</td>\n",
       "      <td>4.010000e+02</td>\n",
       "      <td>4.010000e+02</td>\n",
       "    </tr>\n",
       "    <tr>\n",
       "      <th>mean</th>\n",
       "      <td>24.763158</td>\n",
       "      <td>5.639607e+06</td>\n",
       "      <td>154145.379386</td>\n",
       "      <td>5.537075e+06</td>\n",
       "      <td>6.743853e+05</td>\n",
       "    </tr>\n",
       "    <tr>\n",
       "      <th>std</th>\n",
       "      <td>14.772742</td>\n",
       "      <td>4.785651e+06</td>\n",
       "      <td>121636.461406</td>\n",
       "      <td>4.218895e+06</td>\n",
       "      <td>3.173155e+05</td>\n",
       "    </tr>\n",
       "    <tr>\n",
       "      <th>min</th>\n",
       "      <td>1.000000</td>\n",
       "      <td>0.000000e+00</td>\n",
       "      <td>0.000000</td>\n",
       "      <td>2.213000e+04</td>\n",
       "      <td>1.406200e+04</td>\n",
       "    </tr>\n",
       "    <tr>\n",
       "      <th>25%</th>\n",
       "      <td>13.000000</td>\n",
       "      <td>9.724508e+05</td>\n",
       "      <td>47438.500000</td>\n",
       "      <td>1.721560e+06</td>\n",
       "      <td>4.546390e+05</td>\n",
       "    </tr>\n",
       "    <tr>\n",
       "      <th>50%</th>\n",
       "      <td>21.000000</td>\n",
       "      <td>5.069262e+06</td>\n",
       "      <td>149918.500000</td>\n",
       "      <td>5.088635e+06</td>\n",
       "      <td>6.819610e+05</td>\n",
       "    </tr>\n",
       "    <tr>\n",
       "      <th>75%</th>\n",
       "      <td>37.000000</td>\n",
       "      <td>9.133128e+06</td>\n",
       "      <td>222985.750000</td>\n",
       "      <td>8.643693e+06</td>\n",
       "      <td>8.749930e+05</td>\n",
       "    </tr>\n",
       "    <tr>\n",
       "      <th>max</th>\n",
       "      <td>53.000000</td>\n",
       "      <td>1.608326e+07</td>\n",
       "      <td>449068.000000</td>\n",
       "      <td>1.449217e+07</td>\n",
       "      <td>1.317658e+06</td>\n",
       "    </tr>\n",
       "  </tbody>\n",
       "</table>\n",
       "</div>"
      ],
      "text/plain": [
       "             week         cases         deaths     recovered    monitoring\n",
       "count  456.000000  4.560000e+02     456.000000  4.010000e+02  4.010000e+02\n",
       "mean    24.763158  5.639607e+06  154145.379386  5.537075e+06  6.743853e+05\n",
       "std     14.772742  4.785651e+06  121636.461406  4.218895e+06  3.173155e+05\n",
       "min      1.000000  0.000000e+00       0.000000  2.213000e+04  1.406200e+04\n",
       "25%     13.000000  9.724508e+05   47438.500000  1.721560e+06  4.546390e+05\n",
       "50%     21.000000  5.069262e+06  149918.500000  5.088635e+06  6.819610e+05\n",
       "75%     37.000000  9.133128e+06  222985.750000  8.643693e+06  8.749930e+05\n",
       "max     53.000000  1.608326e+07  449068.000000  1.449217e+07  1.317658e+06"
      ]
     },
     "execution_count": 30,
     "metadata": {},
     "output_type": "execute_result"
    }
   ],
   "source": [
    "df_macro.describe()"
   ]
  },
  {
   "cell_type": "code",
   "execution_count": 31,
   "id": "994ae10f",
   "metadata": {},
   "outputs": [
    {
     "data": {
      "text/html": [
       "<div>\n",
       "<style scoped>\n",
       "    .dataframe tbody tr th:only-of-type {\n",
       "        vertical-align: middle;\n",
       "    }\n",
       "\n",
       "    .dataframe tbody tr th {\n",
       "        vertical-align: top;\n",
       "    }\n",
       "\n",
       "    .dataframe thead th {\n",
       "        text-align: right;\n",
       "    }\n",
       "</style>\n",
       "<table border=\"1\" class=\"dataframe\">\n",
       "  <thead>\n",
       "    <tr style=\"text-align: right;\">\n",
       "      <th></th>\n",
       "      <th>date</th>\n",
       "      <th>country</th>\n",
       "      <th>week</th>\n",
       "      <th>cases</th>\n",
       "      <th>deaths</th>\n",
       "      <th>recovered</th>\n",
       "      <th>monitoring</th>\n",
       "    </tr>\n",
       "  </thead>\n",
       "  <tbody>\n",
       "    <tr>\n",
       "      <th>0</th>\n",
       "      <td>2020-02-25</td>\n",
       "      <td>Brasil</td>\n",
       "      <td>9</td>\n",
       "      <td>0</td>\n",
       "      <td>0</td>\n",
       "      <td>5.537075e+06</td>\n",
       "      <td>674385.304239</td>\n",
       "    </tr>\n",
       "    <tr>\n",
       "      <th>1</th>\n",
       "      <td>2020-02-26</td>\n",
       "      <td>Brasil</td>\n",
       "      <td>9</td>\n",
       "      <td>1</td>\n",
       "      <td>0</td>\n",
       "      <td>5.537075e+06</td>\n",
       "      <td>674385.304239</td>\n",
       "    </tr>\n",
       "    <tr>\n",
       "      <th>2</th>\n",
       "      <td>2020-02-27</td>\n",
       "      <td>Brasil</td>\n",
       "      <td>9</td>\n",
       "      <td>1</td>\n",
       "      <td>0</td>\n",
       "      <td>5.537075e+06</td>\n",
       "      <td>674385.304239</td>\n",
       "    </tr>\n",
       "    <tr>\n",
       "      <th>3</th>\n",
       "      <td>2020-02-28</td>\n",
       "      <td>Brasil</td>\n",
       "      <td>9</td>\n",
       "      <td>1</td>\n",
       "      <td>0</td>\n",
       "      <td>5.537075e+06</td>\n",
       "      <td>674385.304239</td>\n",
       "    </tr>\n",
       "    <tr>\n",
       "      <th>4</th>\n",
       "      <td>2020-02-29</td>\n",
       "      <td>Brasil</td>\n",
       "      <td>9</td>\n",
       "      <td>2</td>\n",
       "      <td>0</td>\n",
       "      <td>5.537075e+06</td>\n",
       "      <td>674385.304239</td>\n",
       "    </tr>\n",
       "  </tbody>\n",
       "</table>\n",
       "</div>"
      ],
      "text/plain": [
       "         date country  week  cases  deaths     recovered     monitoring\n",
       "0  2020-02-25  Brasil     9      0       0  5.537075e+06  674385.304239\n",
       "1  2020-02-26  Brasil     9      1       0  5.537075e+06  674385.304239\n",
       "2  2020-02-27  Brasil     9      1       0  5.537075e+06  674385.304239\n",
       "3  2020-02-28  Brasil     9      1       0  5.537075e+06  674385.304239\n",
       "4  2020-02-29  Brasil     9      2       0  5.537075e+06  674385.304239"
      ]
     },
     "execution_count": 31,
     "metadata": {},
     "output_type": "execute_result"
    }
   ],
   "source": [
    "df_macro[\"recovered\"].fillna(df_macro[\"recovered\"].mean(), inplace=True)\n",
    "df_macro[\"monitoring\"].fillna(df_macro[\"monitoring\"].mean(), inplace=True)\n",
    "df_macro.head(5)"
   ]
  },
  {
   "cell_type": "code",
   "execution_count": 32,
   "id": "2bb75347",
   "metadata": {},
   "outputs": [
    {
     "name": "stdout",
     "output_type": "stream",
     "text": [
      "0\n",
      "0\n"
     ]
    }
   ],
   "source": [
    "print(df_macro['recovered'].isna().sum())\n",
    "print(df_macro['monitoring'].isna().sum())"
   ]
  },
  {
   "cell_type": "code",
   "execution_count": 33,
   "id": "9df8addc",
   "metadata": {},
   "outputs": [
    {
     "name": "stdout",
     "output_type": "stream",
     "text": [
      "0\n",
      "0\n",
      "0\n",
      "0\n"
     ]
    }
   ],
   "source": [
    "print(df_macro['week'].isna().sum())\n",
    "print(df_macro['cases'].isna().sum())\n",
    "print(df_macro['country'].isna().sum())\n",
    "print(df_macro['date'].isna().sum())"
   ]
  },
  {
   "cell_type": "code",
   "execution_count": 34,
   "id": "a8747863",
   "metadata": {},
   "outputs": [
    {
     "data": {
      "text/html": [
       "<div>\n",
       "<style scoped>\n",
       "    .dataframe tbody tr th:only-of-type {\n",
       "        vertical-align: middle;\n",
       "    }\n",
       "\n",
       "    .dataframe tbody tr th {\n",
       "        vertical-align: top;\n",
       "    }\n",
       "\n",
       "    .dataframe thead th {\n",
       "        text-align: right;\n",
       "    }\n",
       "</style>\n",
       "<table border=\"1\" class=\"dataframe\">\n",
       "  <thead>\n",
       "    <tr style=\"text-align: right;\">\n",
       "      <th></th>\n",
       "      <th>date</th>\n",
       "      <th>country</th>\n",
       "      <th>week</th>\n",
       "      <th>cases</th>\n",
       "      <th>deaths</th>\n",
       "      <th>recovered</th>\n",
       "      <th>monitoring</th>\n",
       "    </tr>\n",
       "  </thead>\n",
       "  <tbody>\n",
       "    <tr>\n",
       "      <th>0</th>\n",
       "      <td>2020-02-25</td>\n",
       "      <td>Brasil</td>\n",
       "      <td>9</td>\n",
       "      <td>0</td>\n",
       "      <td>0</td>\n",
       "      <td>5.537075e+06</td>\n",
       "      <td>674385.304239</td>\n",
       "    </tr>\n",
       "    <tr>\n",
       "      <th>1</th>\n",
       "      <td>2020-02-26</td>\n",
       "      <td>Brasil</td>\n",
       "      <td>9</td>\n",
       "      <td>1</td>\n",
       "      <td>0</td>\n",
       "      <td>5.537075e+06</td>\n",
       "      <td>674385.304239</td>\n",
       "    </tr>\n",
       "    <tr>\n",
       "      <th>2</th>\n",
       "      <td>2020-02-27</td>\n",
       "      <td>Brasil</td>\n",
       "      <td>9</td>\n",
       "      <td>1</td>\n",
       "      <td>0</td>\n",
       "      <td>5.537075e+06</td>\n",
       "      <td>674385.304239</td>\n",
       "    </tr>\n",
       "    <tr>\n",
       "      <th>3</th>\n",
       "      <td>2020-02-28</td>\n",
       "      <td>Brasil</td>\n",
       "      <td>9</td>\n",
       "      <td>1</td>\n",
       "      <td>0</td>\n",
       "      <td>5.537075e+06</td>\n",
       "      <td>674385.304239</td>\n",
       "    </tr>\n",
       "    <tr>\n",
       "      <th>4</th>\n",
       "      <td>2020-02-29</td>\n",
       "      <td>Brasil</td>\n",
       "      <td>9</td>\n",
       "      <td>2</td>\n",
       "      <td>0</td>\n",
       "      <td>5.537075e+06</td>\n",
       "      <td>674385.304239</td>\n",
       "    </tr>\n",
       "  </tbody>\n",
       "</table>\n",
       "</div>"
      ],
      "text/plain": [
       "         date country  week  cases  deaths     recovered     monitoring\n",
       "0  2020-02-25  Brasil     9      0       0  5.537075e+06  674385.304239\n",
       "1  2020-02-26  Brasil     9      1       0  5.537075e+06  674385.304239\n",
       "2  2020-02-27  Brasil     9      1       0  5.537075e+06  674385.304239\n",
       "3  2020-02-28  Brasil     9      1       0  5.537075e+06  674385.304239\n",
       "4  2020-02-29  Brasil     9      2       0  5.537075e+06  674385.304239"
      ]
     },
     "execution_count": 34,
     "metadata": {},
     "output_type": "execute_result"
    }
   ],
   "source": [
    "df_macro.head(5)"
   ]
  },
  {
   "cell_type": "markdown",
   "id": "28f341c9",
   "metadata": {},
   "source": [
    "#### Saving Changes"
   ]
  },
  {
   "cell_type": "code",
   "execution_count": 35,
   "id": "7ab96a33",
   "metadata": {},
   "outputs": [],
   "source": [
    "with pd.ExcelWriter(\"brazil_covid19_macro.xlsx\") as writer:\n",
    "        df_macro.to_excel(writer, index= False)"
   ]
  },
  {
   "cell_type": "code",
   "execution_count": null,
   "id": "bdb1a213",
   "metadata": {},
   "outputs": [],
   "source": []
  }
 ],
 "metadata": {
  "kernelspec": {
   "display_name": "Python 3 (ipykernel)",
   "language": "python",
   "name": "python3"
  },
  "language_info": {
   "codemirror_mode": {
    "name": "ipython",
    "version": 3
   },
   "file_extension": ".py",
   "mimetype": "text/x-python",
   "name": "python",
   "nbconvert_exporter": "python",
   "pygments_lexer": "ipython3",
   "version": "3.9.7"
  }
 },
 "nbformat": 4,
 "nbformat_minor": 5
}

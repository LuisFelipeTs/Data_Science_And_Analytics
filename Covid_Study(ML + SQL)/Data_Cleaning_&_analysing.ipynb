{
 "cells": [
  {
   "cell_type": "markdown",
   "id": "edcad7fb",
   "metadata": {},
   "source": [
    "# Data Cleaning & Analysing\n",
    "analysis and processing of kaggle site databases. Link: https://www.kaggle.com/datasets/unanimad/corona-virus-brazil"
   ]
  },
  {
   "cell_type": "markdown",
   "id": "667a7dcf",
   "metadata": {},
   "source": [
    "## Analysing & Cleaning the data from brazil_cities_coordinates"
   ]
  },
  {
   "cell_type": "code",
   "execution_count": 1,
   "id": "d3bfc44d",
   "metadata": {},
   "outputs": [],
   "source": [
    "import pandas as pd \n",
    "import numpy as np\n",
    "import seaborn as sns\n",
    "import matplotlib.pyplot as plt"
   ]
  },
  {
   "cell_type": "code",
   "execution_count": 4,
   "id": "36fd098f",
   "metadata": {},
   "outputs": [
    {
     "data": {
      "text/html": [
       "<div>\n",
       "<style scoped>\n",
       "    .dataframe tbody tr th:only-of-type {\n",
       "        vertical-align: middle;\n",
       "    }\n",
       "\n",
       "    .dataframe tbody tr th {\n",
       "        vertical-align: top;\n",
       "    }\n",
       "\n",
       "    .dataframe thead th {\n",
       "        text-align: right;\n",
       "    }\n",
       "</style>\n",
       "<table border=\"1\" class=\"dataframe\">\n",
       "  <thead>\n",
       "    <tr style=\"text-align: right;\">\n",
       "      <th></th>\n",
       "      <th>state_code</th>\n",
       "      <th>city_code</th>\n",
       "      <th>city_name</th>\n",
       "      <th>lat</th>\n",
       "      <th>long</th>\n",
       "      <th>capital</th>\n",
       "    </tr>\n",
       "  </thead>\n",
       "  <tbody>\n",
       "    <tr>\n",
       "      <th>0</th>\n",
       "      <td>52</td>\n",
       "      <td>5200050</td>\n",
       "      <td>Abadia de Goiás</td>\n",
       "      <td>-16.75730</td>\n",
       "      <td>-49.4412</td>\n",
       "      <td>False</td>\n",
       "    </tr>\n",
       "    <tr>\n",
       "      <th>1</th>\n",
       "      <td>31</td>\n",
       "      <td>3100104</td>\n",
       "      <td>Abadia dos Dourados</td>\n",
       "      <td>-18.48310</td>\n",
       "      <td>-47.3916</td>\n",
       "      <td>False</td>\n",
       "    </tr>\n",
       "    <tr>\n",
       "      <th>2</th>\n",
       "      <td>52</td>\n",
       "      <td>5200100</td>\n",
       "      <td>Abadiânia</td>\n",
       "      <td>-16.19700</td>\n",
       "      <td>-48.7057</td>\n",
       "      <td>False</td>\n",
       "    </tr>\n",
       "    <tr>\n",
       "      <th>3</th>\n",
       "      <td>31</td>\n",
       "      <td>3100203</td>\n",
       "      <td>Abaeté</td>\n",
       "      <td>-19.15510</td>\n",
       "      <td>-45.4444</td>\n",
       "      <td>False</td>\n",
       "    </tr>\n",
       "    <tr>\n",
       "      <th>4</th>\n",
       "      <td>15</td>\n",
       "      <td>1500107</td>\n",
       "      <td>Abaetetuba</td>\n",
       "      <td>-1.72183</td>\n",
       "      <td>-48.8788</td>\n",
       "      <td>False</td>\n",
       "    </tr>\n",
       "  </tbody>\n",
       "</table>\n",
       "</div>"
      ],
      "text/plain": [
       "   state_code  city_code            city_name       lat     long  capital\n",
       "0          52    5200050      Abadia de Goiás -16.75730 -49.4412    False\n",
       "1          31    3100104  Abadia dos Dourados -18.48310 -47.3916    False\n",
       "2          52    5200100            Abadiânia -16.19700 -48.7057    False\n",
       "3          31    3100203               Abaeté -19.15510 -45.4444    False\n",
       "4          15    1500107           Abaetetuba  -1.72183 -48.8788    False"
      ]
     },
     "execution_count": 4,
     "metadata": {},
     "output_type": "execute_result"
    }
   ],
   "source": [
    "db_citie_coord = pd.read_csv(\"brazil_cities_coordinates.csv\")\n",
    "db_citie_coord.head(5)"
   ]
  },
  {
   "cell_type": "code",
   "execution_count": 5,
   "id": "eb3f923b",
   "metadata": {},
   "outputs": [
    {
     "data": {
      "text/html": [
       "<div>\n",
       "<style scoped>\n",
       "    .dataframe tbody tr th:only-of-type {\n",
       "        vertical-align: middle;\n",
       "    }\n",
       "\n",
       "    .dataframe tbody tr th {\n",
       "        vertical-align: top;\n",
       "    }\n",
       "\n",
       "    .dataframe thead th {\n",
       "        text-align: right;\n",
       "    }\n",
       "</style>\n",
       "<table border=\"1\" class=\"dataframe\">\n",
       "  <thead>\n",
       "    <tr style=\"text-align: right;\">\n",
       "      <th></th>\n",
       "      <th>state_code</th>\n",
       "      <th>city_code</th>\n",
       "      <th>lat</th>\n",
       "      <th>long</th>\n",
       "    </tr>\n",
       "  </thead>\n",
       "  <tbody>\n",
       "    <tr>\n",
       "      <th>count</th>\n",
       "      <td>5570.000000</td>\n",
       "      <td>5.570000e+03</td>\n",
       "      <td>5570.000000</td>\n",
       "      <td>5570.000000</td>\n",
       "    </tr>\n",
       "    <tr>\n",
       "      <th>mean</th>\n",
       "      <td>32.377738</td>\n",
       "      <td>3.253591e+06</td>\n",
       "      <td>-16.449144</td>\n",
       "      <td>-46.231003</td>\n",
       "    </tr>\n",
       "    <tr>\n",
       "      <th>std</th>\n",
       "      <td>9.833862</td>\n",
       "      <td>9.849103e+05</td>\n",
       "      <td>8.287237</td>\n",
       "      <td>6.408539</td>\n",
       "    </tr>\n",
       "    <tr>\n",
       "      <th>min</th>\n",
       "      <td>11.000000</td>\n",
       "      <td>1.100015e+06</td>\n",
       "      <td>-33.686600</td>\n",
       "      <td>-72.899700</td>\n",
       "    </tr>\n",
       "    <tr>\n",
       "      <th>25%</th>\n",
       "      <td>25.000000</td>\n",
       "      <td>2.512126e+06</td>\n",
       "      <td>-22.843875</td>\n",
       "      <td>-50.878525</td>\n",
       "    </tr>\n",
       "    <tr>\n",
       "      <th>50%</th>\n",
       "      <td>31.000000</td>\n",
       "      <td>3.146280e+06</td>\n",
       "      <td>-18.094300</td>\n",
       "      <td>-46.523200</td>\n",
       "    </tr>\n",
       "    <tr>\n",
       "      <th>75%</th>\n",
       "      <td>41.000000</td>\n",
       "      <td>4.119190e+06</td>\n",
       "      <td>-8.496445</td>\n",
       "      <td>-41.410775</td>\n",
       "    </tr>\n",
       "    <tr>\n",
       "      <th>max</th>\n",
       "      <td>53.000000</td>\n",
       "      <td>5.300108e+06</td>\n",
       "      <td>4.603140</td>\n",
       "      <td>-32.410700</td>\n",
       "    </tr>\n",
       "  </tbody>\n",
       "</table>\n",
       "</div>"
      ],
      "text/plain": [
       "        state_code     city_code          lat         long\n",
       "count  5570.000000  5.570000e+03  5570.000000  5570.000000\n",
       "mean     32.377738  3.253591e+06   -16.449144   -46.231003\n",
       "std       9.833862  9.849103e+05     8.287237     6.408539\n",
       "min      11.000000  1.100015e+06   -33.686600   -72.899700\n",
       "25%      25.000000  2.512126e+06   -22.843875   -50.878525\n",
       "50%      31.000000  3.146280e+06   -18.094300   -46.523200\n",
       "75%      41.000000  4.119190e+06    -8.496445   -41.410775\n",
       "max      53.000000  5.300108e+06     4.603140   -32.410700"
      ]
     },
     "execution_count": 5,
     "metadata": {},
     "output_type": "execute_result"
    }
   ],
   "source": [
    "db_citie_coord.describe()"
   ]
  },
  {
   "cell_type": "code",
   "execution_count": 15,
   "id": "3461ccaa",
   "metadata": {},
   "outputs": [
    {
     "data": {
      "text/plain": [
       "Index(['state_code', 'city_code', 'city_name', 'lat', 'long', 'capital'], dtype='object')"
      ]
     },
     "execution_count": 15,
     "metadata": {},
     "output_type": "execute_result"
    }
   ],
   "source": [
    "db_citie_coord.columns"
   ]
  },
  {
   "cell_type": "code",
   "execution_count": 54,
   "id": "e9520bd0",
   "metadata": {},
   "outputs": [
    {
     "data": {
      "text/plain": [
       "<AxesSubplot:>"
      ]
     },
     "execution_count": 54,
     "metadata": {},
     "output_type": "execute_result"
    },
    {
     "data": {
      "image/png": "[encoded data removed]",
      "text/plain": [
       "<Figure size 432x288 with 4 Axes>"
      ]
     },
     "metadata": {
      "needs_background": "light"
     },
     "output_type": "display_data"
    }
   ],
   "source": [
    "plt.subplot(221)\n",
    "sns.boxplot(data = db_citie_coord['state_code'])\n",
    "plt.subplot(222)\n",
    "sns.boxplot(data = db_citie_coord['city_code'])\n",
    "plt.subplot(223)\n",
    "sns.boxplot(data = db_citie_coord['lat'])\n",
    "plt.subplot(224)\n",
    "sns.boxplot(data = db_citie_coord['long'])"
   ]
  },
  {
   "cell_type": "code",
   "execution_count": 55,
   "id": "fbe8e545",
   "metadata": {},
   "outputs": [
    {
     "name": "stdout",
     "output_type": "stream",
     "text": [
      "Bom Jesus            5\n",
      "São Domingos         5\n",
      "Planalto             4\n",
      "Santa Helena         4\n",
      "São Francisco        4\n",
      "                    ..\n",
      "Garrafão do Norte    1\n",
      "Garopaba             1\n",
      "Garibaldi            1\n",
      "Garça                1\n",
      "Zortéa               1\n",
      "Name: city_name, Length: 5299, dtype: int64\n"
     ]
    }
   ],
   "source": [
    "print(str(db_citie_coord['city_name'].value_counts(dropna = False)))\n"
   ]
  },
  {
   "cell_type": "markdown",
   "id": "0fb34778",
   "metadata": {},
   "source": [
    "Not necessary to change the database"
   ]
  },
  {
   "cell_type": "markdown",
   "id": "39d9ca95",
   "metadata": {},
   "source": [
    "## Analysing & Cleaning the data from brazil_covid19"
   ]
  },
  {
   "cell_type": "code",
   "execution_count": 3,
   "id": "27ad4ce3",
   "metadata": {},
   "outputs": [
    {
     "data": {
      "text/html": [
       "<div>\n",
       "<style scoped>\n",
       "    .dataframe tbody tr th:only-of-type {\n",
       "        vertical-align: middle;\n",
       "    }\n",
       "\n",
       "    .dataframe tbody tr th {\n",
       "        vertical-align: top;\n",
       "    }\n",
       "\n",
       "    .dataframe thead th {\n",
       "        text-align: right;\n",
       "    }\n",
       "</style>\n",
       "<table border=\"1\" class=\"dataframe\">\n",
       "  <thead>\n",
       "    <tr style=\"text-align: right;\">\n",
       "      <th></th>\n",
       "      <th>date</th>\n",
       "      <th>region</th>\n",
       "      <th>state</th>\n",
       "      <th>cases</th>\n",
       "      <th>deaths</th>\n",
       "    </tr>\n",
       "  </thead>\n",
       "  <tbody>\n",
       "    <tr>\n",
       "      <th>0</th>\n",
       "      <td>2020-02-25</td>\n",
       "      <td>Centro-Oeste</td>\n",
       "      <td>DF</td>\n",
       "      <td>0.0</td>\n",
       "      <td>0</td>\n",
       "    </tr>\n",
       "    <tr>\n",
       "      <th>1</th>\n",
       "      <td>2020-02-25</td>\n",
       "      <td>Centro-Oeste</td>\n",
       "      <td>GO</td>\n",
       "      <td>0.0</td>\n",
       "      <td>0</td>\n",
       "    </tr>\n",
       "    <tr>\n",
       "      <th>2</th>\n",
       "      <td>2020-02-25</td>\n",
       "      <td>Centro-Oeste</td>\n",
       "      <td>MS</td>\n",
       "      <td>0.0</td>\n",
       "      <td>0</td>\n",
       "    </tr>\n",
       "    <tr>\n",
       "      <th>3</th>\n",
       "      <td>2020-02-25</td>\n",
       "      <td>Centro-Oeste</td>\n",
       "      <td>MT</td>\n",
       "      <td>0.0</td>\n",
       "      <td>0</td>\n",
       "    </tr>\n",
       "    <tr>\n",
       "      <th>4</th>\n",
       "      <td>2020-02-25</td>\n",
       "      <td>Nordeste</td>\n",
       "      <td>AL</td>\n",
       "      <td>0.0</td>\n",
       "      <td>0</td>\n",
       "    </tr>\n",
       "  </tbody>\n",
       "</table>\n",
       "</div>"
      ],
      "text/plain": [
       "         date        region state  cases  deaths\n",
       "0  2020-02-25  Centro-Oeste    DF    0.0       0\n",
       "1  2020-02-25  Centro-Oeste    GO    0.0       0\n",
       "2  2020-02-25  Centro-Oeste    MS    0.0       0\n",
       "3  2020-02-25  Centro-Oeste    MT    0.0       0\n",
       "4  2020-02-25      Nordeste    AL    0.0       0"
      ]
     },
     "execution_count": 3,
     "metadata": {},
     "output_type": "execute_result"
    }
   ],
   "source": [
    "db_reg_coord = pd.read_csv(\"brazil_covid19.csv\")\n",
    "db_reg_coord.head(5)"
   ]
  },
  {
   "cell_type": "code",
   "execution_count": 4,
   "id": "613dd951",
   "metadata": {},
   "outputs": [
    {
     "data": {
      "text/html": [
       "<div>\n",
       "<style scoped>\n",
       "    .dataframe tbody tr th:only-of-type {\n",
       "        vertical-align: middle;\n",
       "    }\n",
       "\n",
       "    .dataframe tbody tr th {\n",
       "        vertical-align: top;\n",
       "    }\n",
       "\n",
       "    .dataframe thead th {\n",
       "        text-align: right;\n",
       "    }\n",
       "</style>\n",
       "<table border=\"1\" class=\"dataframe\">\n",
       "  <thead>\n",
       "    <tr style=\"text-align: right;\">\n",
       "      <th></th>\n",
       "      <th>cases</th>\n",
       "      <th>deaths</th>\n",
       "    </tr>\n",
       "  </thead>\n",
       "  <tbody>\n",
       "    <tr>\n",
       "      <th>count</th>\n",
       "      <td>1.225800e+04</td>\n",
       "      <td>12258.000000</td>\n",
       "    </tr>\n",
       "    <tr>\n",
       "      <th>mean</th>\n",
       "      <td>2.085151e+05</td>\n",
       "      <td>5701.935308</td>\n",
       "    </tr>\n",
       "    <tr>\n",
       "      <th>std</th>\n",
       "      <td>3.281497e+05</td>\n",
       "      <td>10238.310905</td>\n",
       "    </tr>\n",
       "    <tr>\n",
       "      <th>min</th>\n",
       "      <td>0.000000e+00</td>\n",
       "      <td>0.000000</td>\n",
       "    </tr>\n",
       "    <tr>\n",
       "      <th>25%</th>\n",
       "      <td>2.184225e+04</td>\n",
       "      <td>558.250000</td>\n",
       "    </tr>\n",
       "    <tr>\n",
       "      <th>50%</th>\n",
       "      <td>1.065500e+05</td>\n",
       "      <td>2627.000000</td>\n",
       "    </tr>\n",
       "    <tr>\n",
       "      <th>75%</th>\n",
       "      <td>2.524558e+05</td>\n",
       "      <td>6534.000000</td>\n",
       "    </tr>\n",
       "    <tr>\n",
       "      <th>max</th>\n",
       "      <td>3.188105e+06</td>\n",
       "      <td>107614.000000</td>\n",
       "    </tr>\n",
       "  </tbody>\n",
       "</table>\n",
       "</div>"
      ],
      "text/plain": [
       "              cases         deaths\n",
       "count  1.225800e+04   12258.000000\n",
       "mean   2.085151e+05    5701.935308\n",
       "std    3.281497e+05   10238.310905\n",
       "min    0.000000e+00       0.000000\n",
       "25%    2.184225e+04     558.250000\n",
       "50%    1.065500e+05    2627.000000\n",
       "75%    2.524558e+05    6534.000000\n",
       "max    3.188105e+06  107614.000000"
      ]
     },
     "execution_count": 4,
     "metadata": {},
     "output_type": "execute_result"
    }
   ],
   "source": [
    "db_reg_coord.describe()"
   ]
  },
  {
   "cell_type": "code",
   "execution_count": 5,
   "id": "6aae27e1",
   "metadata": {},
   "outputs": [
    {
     "data": {
      "text/plain": [
       "Index(['date', 'region', 'state', 'cases', 'deaths'], dtype='object')"
      ]
     },
     "execution_count": 5,
     "metadata": {},
     "output_type": "execute_result"
    }
   ],
   "source": [
    "db_reg_coord.columns"
   ]
  },
  {
   "cell_type": "code",
   "execution_count": 19,
   "id": "2c3beb7f",
   "metadata": {},
   "outputs": [
    {
     "data": {
      "image/png": "[encoded data removed]",
      "text/plain": [
       "<Figure size 432x288 with 1 Axes>"
      ]
     },
     "metadata": {
      "needs_background": "light"
     },
     "output_type": "display_data"
    },
    {
     "data": {
      "text/plain": [
       "<Figure size 1080x1008 with 0 Axes>"
      ]
     },
     "metadata": {},
     "output_type": "display_data"
    }
   ],
   "source": [
    "plt.title('Cases/Deaths per Region in Brazil')\n",
    "plt.xlabel('Region', fontsize=15)\n",
    "plt.ylabel('Quantity(in millions)', fontsize=15)\n",
    "plt.bar(db_reg_coord['region'], db_reg_coord['cases'])\n",
    "plt.bar(db_reg_coord['region'], db_reg_coord['deaths'])\n",
    "plt.legend(['Cases per million','Deaths per million'], fontsize=14)\n",
    "plt.figure(figsize=(15, 14))\n",
    "plt.show()"
   ]
  },
  {
   "cell_type": "code",
   "execution_count": 22,
   "id": "0866511e",
   "metadata": {},
   "outputs": [
    {
     "name": "stdout",
     "output_type": "stream",
     "text": [
      "Nordeste        4086\n",
      "Norte           3178\n",
      "Centro-Oeste    1816\n",
      "Sudeste         1816\n",
      "Sul             1362\n",
      "Name: region, dtype: int64\n",
      "\n",
      "DF    454\n",
      "AM    454\n",
      "RS    454\n",
      "PR    454\n",
      "SP    454\n",
      "RJ    454\n",
      "MG    454\n",
      "ES    454\n",
      "TO    454\n",
      "RR    454\n",
      "RO    454\n",
      "PA    454\n",
      "AP    454\n",
      "AC    454\n",
      "GO    454\n",
      "SE    454\n",
      "RN    454\n",
      "PI    454\n",
      "PE    454\n",
      "PB    454\n",
      "MA    454\n",
      "CE    454\n",
      "BA    454\n",
      "AL    454\n",
      "MT    454\n",
      "MS    454\n",
      "SC    454\n",
      "Name: state, dtype: int64\n",
      "\n"
     ]
    }
   ],
   "source": [
    "print(str(db_reg_coord['region'].value_counts(dropna = False)) + '\\n')\n",
    "print(str(db_reg_coord['state'].value_counts(dropna = False)) + '\\n')"
   ]
  },
  {
   "cell_type": "code",
   "execution_count": 23,
   "id": "dfaba6bb",
   "metadata": {},
   "outputs": [
    {
     "data": {
      "text/plain": [
       "count          12258\n",
       "unique           454\n",
       "top       2020-02-25\n",
       "freq              27\n",
       "Name: date, dtype: object"
      ]
     },
     "execution_count": 23,
     "metadata": {},
     "output_type": "execute_result"
    }
   ],
   "source": [
    "db_reg_coord['date'].describe()"
   ]
  },
  {
   "cell_type": "code",
   "execution_count": 29,
   "id": "921bb074",
   "metadata": {},
   "outputs": [
    {
     "data": {
      "text/plain": [
       "[<matplotlib.lines.Line2D at 0x229e533d670>]"
      ]
     },
     "execution_count": 29,
     "metadata": {},
     "output_type": "execute_result"
    },
    {
     "data": {
      "image/png": "[encoded data removed]",
      "text/plain": [
       "<Figure size 432x288 with 1 Axes>"
      ]
     },
     "metadata": {
      "needs_background": "light"
     },
     "output_type": "display_data"
    }
   ],
   "source": [
    "plt.plot(db_reg_coord['cases'])\n",
    "plt.plot(db_reg_coord['deaths'])"
   ]
  },
  {
   "cell_type": "markdown",
   "id": "63856fb5",
   "metadata": {},
   "source": [
    "Not necessary to clean the database"
   ]
  },
  {
   "cell_type": "markdown",
   "id": "8d28abdc",
   "metadata": {},
   "source": [
    "# Analysing & Cleaning the data from brazil_covid19_macro.csv"
   ]
  },
  {
   "cell_type": "code",
   "execution_count": 30,
   "id": "03c70c6f",
   "metadata": {},
   "outputs": [
    {
     "data": {
      "text/html": [
       "<div>\n",
       "<style scoped>\n",
       "    .dataframe tbody tr th:only-of-type {\n",
       "        vertical-align: middle;\n",
       "    }\n",
       "\n",
       "    .dataframe tbody tr th {\n",
       "        vertical-align: top;\n",
       "    }\n",
       "\n",
       "    .dataframe thead th {\n",
       "        text-align: right;\n",
       "    }\n",
       "</style>\n",
       "<table border=\"1\" class=\"dataframe\">\n",
       "  <thead>\n",
       "    <tr style=\"text-align: right;\">\n",
       "      <th></th>\n",
       "      <th>date</th>\n",
       "      <th>country</th>\n",
       "      <th>week</th>\n",
       "      <th>cases</th>\n",
       "      <th>deaths</th>\n",
       "      <th>recovered</th>\n",
       "      <th>monitoring</th>\n",
       "    </tr>\n",
       "  </thead>\n",
       "  <tbody>\n",
       "    <tr>\n",
       "      <th>0</th>\n",
       "      <td>2020-02-25</td>\n",
       "      <td>Brasil</td>\n",
       "      <td>9</td>\n",
       "      <td>0.0</td>\n",
       "      <td>0</td>\n",
       "      <td>NaN</td>\n",
       "      <td>NaN</td>\n",
       "    </tr>\n",
       "    <tr>\n",
       "      <th>1</th>\n",
       "      <td>2020-02-26</td>\n",
       "      <td>Brasil</td>\n",
       "      <td>9</td>\n",
       "      <td>1.0</td>\n",
       "      <td>0</td>\n",
       "      <td>NaN</td>\n",
       "      <td>NaN</td>\n",
       "    </tr>\n",
       "    <tr>\n",
       "      <th>2</th>\n",
       "      <td>2020-02-27</td>\n",
       "      <td>Brasil</td>\n",
       "      <td>9</td>\n",
       "      <td>1.0</td>\n",
       "      <td>0</td>\n",
       "      <td>NaN</td>\n",
       "      <td>NaN</td>\n",
       "    </tr>\n",
       "    <tr>\n",
       "      <th>3</th>\n",
       "      <td>2020-02-28</td>\n",
       "      <td>Brasil</td>\n",
       "      <td>9</td>\n",
       "      <td>1.0</td>\n",
       "      <td>0</td>\n",
       "      <td>NaN</td>\n",
       "      <td>NaN</td>\n",
       "    </tr>\n",
       "    <tr>\n",
       "      <th>4</th>\n",
       "      <td>2020-02-29</td>\n",
       "      <td>Brasil</td>\n",
       "      <td>9</td>\n",
       "      <td>2.0</td>\n",
       "      <td>0</td>\n",
       "      <td>NaN</td>\n",
       "      <td>NaN</td>\n",
       "    </tr>\n",
       "  </tbody>\n",
       "</table>\n",
       "</div>"
      ],
      "text/plain": [
       "         date country  week  cases  deaths  recovered  monitoring\n",
       "0  2020-02-25  Brasil     9    0.0       0        NaN         NaN\n",
       "1  2020-02-26  Brasil     9    1.0       0        NaN         NaN\n",
       "2  2020-02-27  Brasil     9    1.0       0        NaN         NaN\n",
       "3  2020-02-28  Brasil     9    1.0       0        NaN         NaN\n",
       "4  2020-02-29  Brasil     9    2.0       0        NaN         NaN"
      ]
     },
     "execution_count": 30,
     "metadata": {},
     "output_type": "execute_result"
    }
   ],
   "source": [
    "db_cov_macro = pd.read_csv(\"brazil_covid19_macro.csv\")\n",
    "db_cov_macro.head(5)"
   ]
  },
  {
   "cell_type": "code",
   "execution_count": 31,
   "id": "ab9ddf72",
   "metadata": {},
   "outputs": [
    {
     "data": {
      "text/html": [
       "<div>\n",
       "<style scoped>\n",
       "    .dataframe tbody tr th:only-of-type {\n",
       "        vertical-align: middle;\n",
       "    }\n",
       "\n",
       "    .dataframe tbody tr th {\n",
       "        vertical-align: top;\n",
       "    }\n",
       "\n",
       "    .dataframe thead th {\n",
       "        text-align: right;\n",
       "    }\n",
       "</style>\n",
       "<table border=\"1\" class=\"dataframe\">\n",
       "  <thead>\n",
       "    <tr style=\"text-align: right;\">\n",
       "      <th></th>\n",
       "      <th>week</th>\n",
       "      <th>cases</th>\n",
       "      <th>deaths</th>\n",
       "      <th>recovered</th>\n",
       "      <th>monitoring</th>\n",
       "    </tr>\n",
       "  </thead>\n",
       "  <tbody>\n",
       "    <tr>\n",
       "      <th>count</th>\n",
       "      <td>456.000000</td>\n",
       "      <td>4.560000e+02</td>\n",
       "      <td>456.000000</td>\n",
       "      <td>4.010000e+02</td>\n",
       "      <td>4.010000e+02</td>\n",
       "    </tr>\n",
       "    <tr>\n",
       "      <th>mean</th>\n",
       "      <td>24.763158</td>\n",
       "      <td>5.639607e+06</td>\n",
       "      <td>154145.379386</td>\n",
       "      <td>5.537075e+06</td>\n",
       "      <td>6.743853e+05</td>\n",
       "    </tr>\n",
       "    <tr>\n",
       "      <th>std</th>\n",
       "      <td>14.772742</td>\n",
       "      <td>4.785651e+06</td>\n",
       "      <td>121636.461406</td>\n",
       "      <td>4.218895e+06</td>\n",
       "      <td>3.173155e+05</td>\n",
       "    </tr>\n",
       "    <tr>\n",
       "      <th>min</th>\n",
       "      <td>1.000000</td>\n",
       "      <td>0.000000e+00</td>\n",
       "      <td>0.000000</td>\n",
       "      <td>2.213000e+04</td>\n",
       "      <td>1.406200e+04</td>\n",
       "    </tr>\n",
       "    <tr>\n",
       "      <th>25%</th>\n",
       "      <td>13.000000</td>\n",
       "      <td>9.724508e+05</td>\n",
       "      <td>47438.500000</td>\n",
       "      <td>1.721560e+06</td>\n",
       "      <td>4.546390e+05</td>\n",
       "    </tr>\n",
       "    <tr>\n",
       "      <th>50%</th>\n",
       "      <td>21.000000</td>\n",
       "      <td>5.069262e+06</td>\n",
       "      <td>149918.500000</td>\n",
       "      <td>5.088635e+06</td>\n",
       "      <td>6.819610e+05</td>\n",
       "    </tr>\n",
       "    <tr>\n",
       "      <th>75%</th>\n",
       "      <td>37.000000</td>\n",
       "      <td>9.133128e+06</td>\n",
       "      <td>222985.750000</td>\n",
       "      <td>8.643693e+06</td>\n",
       "      <td>8.749930e+05</td>\n",
       "    </tr>\n",
       "    <tr>\n",
       "      <th>max</th>\n",
       "      <td>53.000000</td>\n",
       "      <td>1.608326e+07</td>\n",
       "      <td>449068.000000</td>\n",
       "      <td>1.449217e+07</td>\n",
       "      <td>1.317658e+06</td>\n",
       "    </tr>\n",
       "  </tbody>\n",
       "</table>\n",
       "</div>"
      ],
      "text/plain": [
       "             week         cases         deaths     recovered    monitoring\n",
       "count  456.000000  4.560000e+02     456.000000  4.010000e+02  4.010000e+02\n",
       "mean    24.763158  5.639607e+06  154145.379386  5.537075e+06  6.743853e+05\n",
       "std     14.772742  4.785651e+06  121636.461406  4.218895e+06  3.173155e+05\n",
       "min      1.000000  0.000000e+00       0.000000  2.213000e+04  1.406200e+04\n",
       "25%     13.000000  9.724508e+05   47438.500000  1.721560e+06  4.546390e+05\n",
       "50%     21.000000  5.069262e+06  149918.500000  5.088635e+06  6.819610e+05\n",
       "75%     37.000000  9.133128e+06  222985.750000  8.643693e+06  8.749930e+05\n",
       "max     53.000000  1.608326e+07  449068.000000  1.449217e+07  1.317658e+06"
      ]
     },
     "execution_count": 31,
     "metadata": {},
     "output_type": "execute_result"
    }
   ],
   "source": [
    "db_cov_macro.describe()"
   ]
  },
  {
   "cell_type": "code",
   "execution_count": 32,
   "id": "fc80eb52",
   "metadata": {},
   "outputs": [
    {
     "data": {
      "text/plain": [
       "<bound method DataFrame.info of            date country  week       cases  deaths   recovered  monitoring\n",
       "0    2020-02-25  Brasil     9         0.0       0         NaN         NaN\n",
       "1    2020-02-26  Brasil     9         1.0       0         NaN         NaN\n",
       "2    2020-02-27  Brasil     9         1.0       0         NaN         NaN\n",
       "3    2020-02-28  Brasil     9         1.0       0         NaN         NaN\n",
       "4    2020-02-29  Brasil     9         2.0       0         NaN         NaN\n",
       "..          ...     ...   ...         ...     ...         ...         ...\n",
       "451  2021-05-19  Brasil    20  15812055.0  441691  14330118.0   1040246.0\n",
       "452  2021-05-20  Brasil    20  15894094.0  444094  14385962.0   1064038.0\n",
       "453  2021-05-21  Brasil    20  15970949.0  446309  14422209.0   1102431.0\n",
       "454  2021-05-22  Brasil    20  16047439.0  448208  14462432.0   1136799.0\n",
       "455  2021-05-23  Brasil    21  16083258.0  449068  14492167.0   1142023.0\n",
       "\n",
       "[456 rows x 7 columns]>"
      ]
     },
     "execution_count": 32,
     "metadata": {},
     "output_type": "execute_result"
    }
   ],
   "source": [
    "db_cov_macro.info"
   ]
  },
  {
   "cell_type": "code",
   "execution_count": 36,
   "id": "7cb6d766",
   "metadata": {},
   "outputs": [
    {
     "name": "stdout",
     "output_type": "stream",
     "text": [
      "Brasil    456\n",
      "Name: country, dtype: int64\n",
      "\n",
      "count    4.010000e+02\n",
      "mean     5.537075e+06\n",
      "std      4.218895e+06\n",
      "min      2.213000e+04\n",
      "25%      1.721560e+06\n",
      "50%      5.088635e+06\n",
      "75%      8.643693e+06\n",
      "max      1.449217e+07\n",
      "Name: recovered, dtype: float64\n",
      "\n",
      "count    4.010000e+02\n",
      "mean     6.743853e+05\n",
      "std      3.173155e+05\n",
      "min      1.406200e+04\n",
      "25%      4.546390e+05\n",
      "50%      6.819610e+05\n",
      "75%      8.749930e+05\n",
      "max      1.317658e+06\n",
      "Name: monitoring, dtype: float64\n",
      "\n"
     ]
    }
   ],
   "source": [
    "print(str(db_cov_macro['country'].value_counts(dropna = False)) + '\\n')\n",
    "print(str(db_cov_macro['recovered'].describe()) + '\\n')\n",
    "print(str(db_cov_macro['monitoring'].describe()) + '\\n')"
   ]
  },
  {
   "cell_type": "code",
   "execution_count": 41,
   "id": "d2fe82fc",
   "metadata": {},
   "outputs": [
    {
     "data": {
      "text/plain": [
       "[<matplotlib.lines.Line2D at 0x229e6e5c5b0>]"
      ]
     },
     "execution_count": 41,
     "metadata": {},
     "output_type": "execute_result"
    },
    {
     "data": {
      "image/png": "[encoded data removed]",
      "text/plain": [
       "<Figure size 432x288 with 4 Axes>"
      ]
     },
     "metadata": {
      "needs_background": "light"
     },
     "output_type": "display_data"
    }
   ],
   "source": [
    "plt.subplot(221)\n",
    "sns.boxplot(data = db_cov_macro['recovered'])\n",
    "plt.subplot(222)\n",
    "sns.boxplot(data = db_cov_macro['monitoring'])\n",
    "plt.subplot(223)\n",
    "plt.plot(db_cov_macro['cases'])\n",
    "plt.subplot(224)\n",
    "plt.plot(db_cov_macro['deaths'])"
   ]
  },
  {
   "cell_type": "markdown",
   "id": "f95fa3cd",
   "metadata": {},
   "source": [
    "Not necessary to clean the database\n",
    "#### it is important to mention that all data refer to brazil"
   ]
  },
  {
   "cell_type": "markdown",
   "id": "61d7f221",
   "metadata": {},
   "source": [
    "## Analysing & Cleaning the data from brazil_covid19_old.csv"
   ]
  },
  {
   "cell_type": "code",
   "execution_count": 3,
   "id": "76c15f0f",
   "metadata": {},
   "outputs": [
    {
     "data": {
      "text/html": [
       "<div>\n",
       "<style scoped>\n",
       "    .dataframe tbody tr th:only-of-type {\n",
       "        vertical-align: middle;\n",
       "    }\n",
       "\n",
       "    .dataframe tbody tr th {\n",
       "        vertical-align: top;\n",
       "    }\n",
       "\n",
       "    .dataframe thead th {\n",
       "        text-align: right;\n",
       "    }\n",
       "</style>\n",
       "<table border=\"1\" class=\"dataframe\">\n",
       "  <thead>\n",
       "    <tr style=\"text-align: right;\">\n",
       "      <th></th>\n",
       "      <th>date</th>\n",
       "      <th>hour</th>\n",
       "      <th>state</th>\n",
       "      <th>suspects</th>\n",
       "      <th>refuses</th>\n",
       "      <th>cases</th>\n",
       "      <th>deaths</th>\n",
       "    </tr>\n",
       "  </thead>\n",
       "  <tbody>\n",
       "    <tr>\n",
       "      <th>0</th>\n",
       "      <td>2020-01-30</td>\n",
       "      <td>16:00</td>\n",
       "      <td>Minas Gerais</td>\n",
       "      <td>1</td>\n",
       "      <td>0</td>\n",
       "      <td>0</td>\n",
       "      <td>0</td>\n",
       "    </tr>\n",
       "    <tr>\n",
       "      <th>1</th>\n",
       "      <td>2020-01-30</td>\n",
       "      <td>16:00</td>\n",
       "      <td>Rio de Janeiro</td>\n",
       "      <td>1</td>\n",
       "      <td>0</td>\n",
       "      <td>0</td>\n",
       "      <td>0</td>\n",
       "    </tr>\n",
       "    <tr>\n",
       "      <th>2</th>\n",
       "      <td>2020-01-30</td>\n",
       "      <td>16:00</td>\n",
       "      <td>Santa Catarina</td>\n",
       "      <td>0</td>\n",
       "      <td>2</td>\n",
       "      <td>0</td>\n",
       "      <td>0</td>\n",
       "    </tr>\n",
       "    <tr>\n",
       "      <th>3</th>\n",
       "      <td>2020-01-30</td>\n",
       "      <td>16:00</td>\n",
       "      <td>São Paulo</td>\n",
       "      <td>3</td>\n",
       "      <td>1</td>\n",
       "      <td>0</td>\n",
       "      <td>0</td>\n",
       "    </tr>\n",
       "    <tr>\n",
       "      <th>4</th>\n",
       "      <td>2020-01-30</td>\n",
       "      <td>16:00</td>\n",
       "      <td>Rio Grande do Sul</td>\n",
       "      <td>2</td>\n",
       "      <td>2</td>\n",
       "      <td>0</td>\n",
       "      <td>0</td>\n",
       "    </tr>\n",
       "  </tbody>\n",
       "</table>\n",
       "</div>"
      ],
      "text/plain": [
       "         date   hour              state  suspects  refuses cases  deaths\n",
       "0  2020-01-30  16:00       Minas Gerais         1        0     0       0\n",
       "1  2020-01-30  16:00     Rio de Janeiro         1        0     0       0\n",
       "2  2020-01-30  16:00     Santa Catarina         0        2     0       0\n",
       "3  2020-01-30  16:00          São Paulo         3        1     0       0\n",
       "4  2020-01-30  16:00  Rio Grande do Sul         2        2     0       0"
      ]
     },
     "execution_count": 3,
     "metadata": {},
     "output_type": "execute_result"
    }
   ],
   "source": [
    "db_cov_old = pd.read_csv(\"brazil_covid19_old.csv\")\n",
    "db_cov_old.head(5)"
   ]
  },
  {
   "cell_type": "code",
   "execution_count": 4,
   "id": "3823af45",
   "metadata": {},
   "outputs": [
    {
     "data": {
      "text/html": [
       "<div>\n",
       "<style scoped>\n",
       "    .dataframe tbody tr th:only-of-type {\n",
       "        vertical-align: middle;\n",
       "    }\n",
       "\n",
       "    .dataframe tbody tr th {\n",
       "        vertical-align: top;\n",
       "    }\n",
       "\n",
       "    .dataframe thead th {\n",
       "        text-align: right;\n",
       "    }\n",
       "</style>\n",
       "<table border=\"1\" class=\"dataframe\">\n",
       "  <thead>\n",
       "    <tr style=\"text-align: right;\">\n",
       "      <th></th>\n",
       "      <th>suspects</th>\n",
       "      <th>refuses</th>\n",
       "      <th>deaths</th>\n",
       "    </tr>\n",
       "  </thead>\n",
       "  <tbody>\n",
       "    <tr>\n",
       "      <th>count</th>\n",
       "      <td>1008.000000</td>\n",
       "      <td>1008.000000</td>\n",
       "      <td>1008.000000</td>\n",
       "    </tr>\n",
       "    <tr>\n",
       "      <th>mean</th>\n",
       "      <td>130.872024</td>\n",
       "      <td>40.736111</td>\n",
       "      <td>0.775794</td>\n",
       "    </tr>\n",
       "    <tr>\n",
       "      <th>std</th>\n",
       "      <td>742.798048</td>\n",
       "      <td>160.687530</td>\n",
       "      <td>6.595365</td>\n",
       "    </tr>\n",
       "    <tr>\n",
       "      <th>min</th>\n",
       "      <td>0.000000</td>\n",
       "      <td>0.000000</td>\n",
       "      <td>0.000000</td>\n",
       "    </tr>\n",
       "    <tr>\n",
       "      <th>25%</th>\n",
       "      <td>0.000000</td>\n",
       "      <td>0.000000</td>\n",
       "      <td>0.000000</td>\n",
       "    </tr>\n",
       "    <tr>\n",
       "      <th>50%</th>\n",
       "      <td>3.000000</td>\n",
       "      <td>3.000000</td>\n",
       "      <td>0.000000</td>\n",
       "    </tr>\n",
       "    <tr>\n",
       "      <th>75%</th>\n",
       "      <td>30.250000</td>\n",
       "      <td>20.000000</td>\n",
       "      <td>0.000000</td>\n",
       "    </tr>\n",
       "    <tr>\n",
       "      <th>max</th>\n",
       "      <td>11832.000000</td>\n",
       "      <td>2423.000000</td>\n",
       "      <td>113.000000</td>\n",
       "    </tr>\n",
       "  </tbody>\n",
       "</table>\n",
       "</div>"
      ],
      "text/plain": [
       "           suspects      refuses       deaths\n",
       "count   1008.000000  1008.000000  1008.000000\n",
       "mean     130.872024    40.736111     0.775794\n",
       "std      742.798048   160.687530     6.595365\n",
       "min        0.000000     0.000000     0.000000\n",
       "25%        0.000000     0.000000     0.000000\n",
       "50%        3.000000     3.000000     0.000000\n",
       "75%       30.250000    20.000000     0.000000\n",
       "max    11832.000000  2423.000000   113.000000"
      ]
     },
     "execution_count": 4,
     "metadata": {},
     "output_type": "execute_result"
    }
   ],
   "source": [
    "db_cov_old.describe()"
   ]
  },
  {
   "cell_type": "code",
   "execution_count": 25,
   "id": "d7180aa3",
   "metadata": {},
   "outputs": [
    {
     "name": "stdout",
     "output_type": "stream",
     "text": [
      "Minas Gerais           62\n",
      "Santa Catarina         62\n",
      "São Paulo              62\n",
      "Rio Grande do Sul      62\n",
      "Paraná                 62\n",
      "Ceará                  62\n",
      "Rio de Janeiro         62\n",
      "Distrito Federal       47\n",
      "Bahia                  33\n",
      "Paraíba                33\n",
      "Pernambuco             33\n",
      "Espírito Santo         33\n",
      "Mato Grosso do Sul     32\n",
      "Goiás                  32\n",
      "Alagoas                32\n",
      "Rio Grande do Norte    32\n",
      "Rondônia               28\n",
      "Amazonas               28\n",
      "Pará                   28\n",
      "Maranhão               28\n",
      "Piauí                  28\n",
      "Sergipe                28\n",
      "Mato Grosso            28\n",
      "Acre                   21\n",
      "Tocantins              18\n",
      "Roraima                16\n",
      "Amapá                  16\n",
      "Name: state, dtype: int64\n",
      "\n"
     ]
    },
    {
     "data": {
      "image/png": "[encoded data removed]",
      "text/plain": [
       "<Figure size 432x288 with 1 Axes>"
      ]
     },
     "metadata": {
      "needs_background": "light"
     },
     "output_type": "display_data"
    },
    {
     "data": {
      "text/plain": [
       "<Figure size 2520x2376 with 0 Axes>"
      ]
     },
     "metadata": {},
     "output_type": "display_data"
    }
   ],
   "source": [
    "\n",
    "print(str(db_cov_old['state'].value_counts(dropna = False)) + '\\n')\n",
    "plt.title('Cases/Deaths per state in Brazil')\n",
    "plt.xlabel('States', fontsize=14)\n",
    "plt.ylabel('Cases/Deaths', fontsize=14)\n",
    "plt.bar(db_cov_old['state'], db_cov_old['cases'])\n",
    "plt.bar(db_cov_old['state'], db_cov_old['deaths'])\n",
    "plt.legend(['Cases','Deaths'], fontsize=12)\n",
    "plt.figure(figsize=(35, 33))\n",
    "plt.show()"
   ]
  },
  {
   "cell_type": "code",
   "execution_count": 28,
   "id": "5b59478d",
   "metadata": {},
   "outputs": [
    {
     "name": "stdout",
     "output_type": "stream",
     "text": [
      "                     suspects  refuses  deaths\n",
      "state                                         \n",
      "Acre                      733      663       0\n",
      "Alagoas                   537      362       0\n",
      "Amapá                     412      297       0\n",
      "Amazonas                  114      267       6\n",
      "Bahia                    5266     2704       2\n",
      "Ceará                    1494      941      20\n",
      "Distrito Federal        14887     8570       2\n",
      "Espírito Santo           3352     1199       0\n",
      "Goiás                    4089     1261       5\n",
      "Maranhão                 1400      449       1\n",
      "Mato Grosso               775      148       0\n",
      "Mato Grosso do Sul        601     1248       0\n",
      "Minas Gerais            41852      834       1\n",
      "Paraná                   4915     3252       9\n",
      "Paraíba                   802      344       0\n",
      "Pará                     1061      756       0\n",
      "Pernambuco               1581     1184      24\n",
      "Piauí                     661      362       5\n",
      "Rio Grande do Norte      1446      294       2\n",
      "Rio Grande do Sul        3215     5219      11\n",
      "Rio de Janeiro           4649     1963      94\n",
      "Rondônia                  666       68       0\n",
      "Roraima                    87       57       0\n",
      "Santa Catarina           3220      622       5\n",
      "Sergipe                    89      215       0\n",
      "São Paulo               33797     7750     595\n",
      "Tocantins                 218       33       0\n"
     ]
    },
    {
     "data": {
      "text/plain": [
       "[<matplotlib.lines.Line2D at 0x28d3a061c70>]"
      ]
     },
     "execution_count": 28,
     "metadata": {},
     "output_type": "execute_result"
    },
    {
     "data": {
      "image/png": "[encoded data removed]",
      "text/plain": [
       "<Figure size 432x288 with 1 Axes>"
      ]
     },
     "metadata": {
      "needs_background": "light"
     },
     "output_type": "display_data"
    }
   ],
   "source": [
    "get_outlier = db_cov_old.groupby(by = 'state').sum()\n",
    "print(get_outlier)\n",
    "plt.plot(db_cov_old.loc[db_cov_old['state'] == 'Rio de Janeiro', 'deaths'])\n",
    "plt.plot(db_cov_old.loc[db_cov_old['state'] == 'Rio de Janeiro', 'cases'])"
   ]
  },
  {
   "cell_type": "code",
   "execution_count": 39,
   "id": "be4c88ed",
   "metadata": {},
   "outputs": [
    {
     "data": {
      "text/html": [
       "<div>\n",
       "<style scoped>\n",
       "    .dataframe tbody tr th:only-of-type {\n",
       "        vertical-align: middle;\n",
       "    }\n",
       "\n",
       "    .dataframe tbody tr th {\n",
       "        vertical-align: top;\n",
       "    }\n",
       "\n",
       "    .dataframe thead th {\n",
       "        text-align: right;\n",
       "    }\n",
       "</style>\n",
       "<table border=\"1\" class=\"dataframe\">\n",
       "  <thead>\n",
       "    <tr style=\"text-align: right;\">\n",
       "      <th></th>\n",
       "      <th>deaths</th>\n",
       "    </tr>\n",
       "  </thead>\n",
       "  <tbody>\n",
       "    <tr>\n",
       "      <th>count</th>\n",
       "      <td>62.000000</td>\n",
       "    </tr>\n",
       "    <tr>\n",
       "      <th>mean</th>\n",
       "      <td>1.516129</td>\n",
       "    </tr>\n",
       "    <tr>\n",
       "      <th>std</th>\n",
       "      <td>3.924459</td>\n",
       "    </tr>\n",
       "    <tr>\n",
       "      <th>min</th>\n",
       "      <td>0.000000</td>\n",
       "    </tr>\n",
       "    <tr>\n",
       "      <th>25%</th>\n",
       "      <td>0.000000</td>\n",
       "    </tr>\n",
       "    <tr>\n",
       "      <th>50%</th>\n",
       "      <td>0.000000</td>\n",
       "    </tr>\n",
       "    <tr>\n",
       "      <th>75%</th>\n",
       "      <td>0.000000</td>\n",
       "    </tr>\n",
       "    <tr>\n",
       "      <th>max</th>\n",
       "      <td>18.000000</td>\n",
       "    </tr>\n",
       "  </tbody>\n",
       "</table>\n",
       "</div>"
      ],
      "text/plain": [
       "          deaths\n",
       "count  62.000000\n",
       "mean    1.516129\n",
       "std     3.924459\n",
       "min     0.000000\n",
       "25%     0.000000\n",
       "50%     0.000000\n",
       "75%     0.000000\n",
       "max    18.000000"
      ]
     },
     "execution_count": 39,
     "metadata": {},
     "output_type": "execute_result"
    }
   ],
   "source": [
    "rio_data = db_cov_old.loc[db_cov_old['state'] == 'Rio de Janeiro']\n",
    "rio_data.describe()"
   ]
  },
  {
   "cell_type": "markdown",
   "id": "cbf30179",
   "metadata": {},
   "source": [
    "##### -------------------------------------------------------------------------------------------------------------------------------------------------------------------------------------\n",
    "### An unusual behavior was detected in the data related to the state of Rio de Janeiro, one treatment will be carried out in the other file of the jupyter that is in the current project.\n",
    "##### -------------------------------------------------------------------------------------------------------------------------------------------------------------------------------------\n"
   ]
  },
  {
   "cell_type": "code",
   "execution_count": null,
   "id": "ad341433",
   "metadata": {},
   "outputs": [],
   "source": []
  }
 ],
 "metadata": {
  "kernelspec": {
   "display_name": "Python 3 (ipykernel)",
   "language": "python",
   "name": "python3"
  },
  "language_info": {
   "codemirror_mode": {
    "name": "ipython",
    "version": 3
   },
   "file_extension": ".py",
   "mimetype": "text/x-python",
   "name": "python",
   "nbconvert_exporter": "python",
   "pygments_lexer": "ipython3",
   "version": "3.9.7"
  }
 },
 "nbformat": 4,
 "nbformat_minor": 5
}

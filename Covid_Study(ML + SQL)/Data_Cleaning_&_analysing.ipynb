{
 "cells": [
  {
   "cell_type": "markdown",
   "id": "edcad7fb",
   "metadata": {},
   "source": [
    "# Data Cleaning & Analysing\n",
    "analysis and processing of kaggle site databases. Link: https://www.kaggle.com/datasets/unanimad/corona-virus-brazil"
   ]
  },
  {
   "cell_type": "markdown",
   "id": "667a7dcf",
   "metadata": {},
   "source": [
    "## Analysing & Cleaning the data from brazil_cities_coordinates"
   ]
  },
  {
   "cell_type": "code",
   "execution_count": 1,
   "id": "d3bfc44d",
   "metadata": {},
   "outputs": [],
   "source": [
    "import pandas as pd \n",
    "import numpy as np\n",
    "import seaborn as sns\n",
    "import matplotlib.pyplot as plt"
   ]
  },
  {
   "cell_type": "code",
   "execution_count": 4,
   "id": "36fd098f",
   "metadata": {},
   "outputs": [
    {
     "data": {
      "text/html": [
       "<div>\n",
       "<style scoped>\n",
       "    .dataframe tbody tr th:only-of-type {\n",
       "        vertical-align: middle;\n",
       "    }\n",
       "\n",
       "    .dataframe tbody tr th {\n",
       "        vertical-align: top;\n",
       "    }\n",
       "\n",
       "    .dataframe thead th {\n",
       "        text-align: right;\n",
       "    }\n",
       "</style>\n",
       "<table border=\"1\" class=\"dataframe\">\n",
       "  <thead>\n",
       "    <tr style=\"text-align: right;\">\n",
       "      <th></th>\n",
       "      <th>state_code</th>\n",
       "      <th>city_code</th>\n",
       "      <th>city_name</th>\n",
       "      <th>lat</th>\n",
       "      <th>long</th>\n",
       "      <th>capital</th>\n",
       "    </tr>\n",
       "  </thead>\n",
       "  <tbody>\n",
       "    <tr>\n",
       "      <th>0</th>\n",
       "      <td>52</td>\n",
       "      <td>5200050</td>\n",
       "      <td>Abadia de Goiás</td>\n",
       "      <td>-16.75730</td>\n",
       "      <td>-49.4412</td>\n",
       "      <td>False</td>\n",
       "    </tr>\n",
       "    <tr>\n",
       "      <th>1</th>\n",
       "      <td>31</td>\n",
       "      <td>3100104</td>\n",
       "      <td>Abadia dos Dourados</td>\n",
       "      <td>-18.48310</td>\n",
       "      <td>-47.3916</td>\n",
       "      <td>False</td>\n",
       "    </tr>\n",
       "    <tr>\n",
       "      <th>2</th>\n",
       "      <td>52</td>\n",
       "      <td>5200100</td>\n",
       "      <td>Abadiânia</td>\n",
       "      <td>-16.19700</td>\n",
       "      <td>-48.7057</td>\n",
       "      <td>False</td>\n",
       "    </tr>\n",
       "    <tr>\n",
       "      <th>3</th>\n",
       "      <td>31</td>\n",
       "      <td>3100203</td>\n",
       "      <td>Abaeté</td>\n",
       "      <td>-19.15510</td>\n",
       "      <td>-45.4444</td>\n",
       "      <td>False</td>\n",
       "    </tr>\n",
       "    <tr>\n",
       "      <th>4</th>\n",
       "      <td>15</td>\n",
       "      <td>1500107</td>\n",
       "      <td>Abaetetuba</td>\n",
       "      <td>-1.72183</td>\n",
       "      <td>-48.8788</td>\n",
       "      <td>False</td>\n",
       "    </tr>\n",
       "  </tbody>\n",
       "</table>\n",
       "</div>"
      ],
      "text/plain": [
       "   state_code  city_code            city_name       lat     long  capital\n",
       "0          52    5200050      Abadia de Goiás -16.75730 -49.4412    False\n",
       "1          31    3100104  Abadia dos Dourados -18.48310 -47.3916    False\n",
       "2          52    5200100            Abadiânia -16.19700 -48.7057    False\n",
       "3          31    3100203               Abaeté -19.15510 -45.4444    False\n",
       "4          15    1500107           Abaetetuba  -1.72183 -48.8788    False"
      ]
     },
     "execution_count": 4,
     "metadata": {},
     "output_type": "execute_result"
    }
   ],
   "source": [
    "db_citie_coord = pd.read_csv(\"brazil_cities_coordinates.csv\")\n",
    "db_citie_coord.head(5)"
   ]
  },
  {
   "cell_type": "code",
   "execution_count": 5,
   "id": "eb3f923b",
   "metadata": {},
   "outputs": [
    {
     "data": {
      "text/html": [
       "<div>\n",
       "<style scoped>\n",
       "    .dataframe tbody tr th:only-of-type {\n",
       "        vertical-align: middle;\n",
       "    }\n",
       "\n",
       "    .dataframe tbody tr th {\n",
       "        vertical-align: top;\n",
       "    }\n",
       "\n",
       "    .dataframe thead th {\n",
       "        text-align: right;\n",
       "    }\n",
       "</style>\n",
       "<table border=\"1\" class=\"dataframe\">\n",
       "  <thead>\n",
       "    <tr style=\"text-align: right;\">\n",
       "      <th></th>\n",
       "      <th>state_code</th>\n",
       "      <th>city_code</th>\n",
       "      <th>lat</th>\n",
       "      <th>long</th>\n",
       "    </tr>\n",
       "  </thead>\n",
       "  <tbody>\n",
       "    <tr>\n",
       "      <th>count</th>\n",
       "      <td>5570.000000</td>\n",
       "      <td>5.570000e+03</td>\n",
       "      <td>5570.000000</td>\n",
       "      <td>5570.000000</td>\n",
       "    </tr>\n",
       "    <tr>\n",
       "      <th>mean</th>\n",
       "      <td>32.377738</td>\n",
       "      <td>3.253591e+06</td>\n",
       "      <td>-16.449144</td>\n",
       "      <td>-46.231003</td>\n",
       "    </tr>\n",
       "    <tr>\n",
       "      <th>std</th>\n",
       "      <td>9.833862</td>\n",
       "      <td>9.849103e+05</td>\n",
       "      <td>8.287237</td>\n",
       "      <td>6.408539</td>\n",
       "    </tr>\n",
       "    <tr>\n",
       "      <th>min</th>\n",
       "      <td>11.000000</td>\n",
       "      <td>1.100015e+06</td>\n",
       "      <td>-33.686600</td>\n",
       "      <td>-72.899700</td>\n",
       "    </tr>\n",
       "    <tr>\n",
       "      <th>25%</th>\n",
       "      <td>25.000000</td>\n",
       "      <td>2.512126e+06</td>\n",
       "      <td>-22.843875</td>\n",
       "      <td>-50.878525</td>\n",
       "    </tr>\n",
       "    <tr>\n",
       "      <th>50%</th>\n",
       "      <td>31.000000</td>\n",
       "      <td>3.146280e+06</td>\n",
       "      <td>-18.094300</td>\n",
       "      <td>-46.523200</td>\n",
       "    </tr>\n",
       "    <tr>\n",
       "      <th>75%</th>\n",
       "      <td>41.000000</td>\n",
       "      <td>4.119190e+06</td>\n",
       "      <td>-8.496445</td>\n",
       "      <td>-41.410775</td>\n",
       "    </tr>\n",
       "    <tr>\n",
       "      <th>max</th>\n",
       "      <td>53.000000</td>\n",
       "      <td>5.300108e+06</td>\n",
       "      <td>4.603140</td>\n",
       "      <td>-32.410700</td>\n",
       "    </tr>\n",
       "  </tbody>\n",
       "</table>\n",
       "</div>"
      ],
      "text/plain": [
       "        state_code     city_code          lat         long\n",
       "count  5570.000000  5.570000e+03  5570.000000  5570.000000\n",
       "mean     32.377738  3.253591e+06   -16.449144   -46.231003\n",
       "std       9.833862  9.849103e+05     8.287237     6.408539\n",
       "min      11.000000  1.100015e+06   -33.686600   -72.899700\n",
       "25%      25.000000  2.512126e+06   -22.843875   -50.878525\n",
       "50%      31.000000  3.146280e+06   -18.094300   -46.523200\n",
       "75%      41.000000  4.119190e+06    -8.496445   -41.410775\n",
       "max      53.000000  5.300108e+06     4.603140   -32.410700"
      ]
     },
     "execution_count": 5,
     "metadata": {},
     "output_type": "execute_result"
    }
   ],
   "source": [
    "db_citie_coord.describe()"
   ]
  },
  {
   "cell_type": "code",
   "execution_count": 15,
   "id": "3461ccaa",
   "metadata": {},
   "outputs": [
    {
     "data": {
      "text/plain": [
       "Index(['state_code', 'city_code', 'city_name', 'lat', 'long', 'capital'], dtype='object')"
      ]
     },
     "execution_count": 15,
     "metadata": {},
     "output_type": "execute_result"
    }
   ],
   "source": [
    "db_citie_coord.columns"
   ]
  },
  {
   "cell_type": "code",
   "execution_count": 54,
   "id": "e9520bd0",
   "metadata": {},
   "outputs": [
    {
     "data": {
      "text/plain": [
       "<AxesSubplot:>"
      ]
     },
     "execution_count": 54,
     "metadata": {},
     "output_type": "execute_result"
    },
    {
     "data": {
      "image/png": "[encoded data removed]",
      "text/plain": [
       "<Figure size 432x288 with 4 Axes>"
      ]
     },
     "metadata": {
      "needs_background": "light"
     },
     "output_type": "display_data"
    }
   ],
   "source": [
    "plt.subplot(221)\n",
    "sns.boxplot(data = db_citie_coord['state_code'])\n",
    "plt.subplot(222)\n",
    "sns.boxplot(data = db_citie_coord['city_code'])\n",
    "plt.subplot(223)\n",
    "sns.boxplot(data = db_citie_coord['lat'])\n",
    "plt.subplot(224)\n",
    "sns.boxplot(data = db_citie_coord['long'])"
   ]
  },
  {
   "cell_type": "code",
   "execution_count": 55,
   "id": "fbe8e545",
   "metadata": {},
   "outputs": [
    {
     "name": "stdout",
     "output_type": "stream",
     "text": [
      "Bom Jesus            5\n",
      "São Domingos         5\n",
      "Planalto             4\n",
      "Santa Helena         4\n",
      "São Francisco        4\n",
      "                    ..\n",
      "Garrafão do Norte    1\n",
      "Garopaba             1\n",
      "Garibaldi            1\n",
      "Garça                1\n",
      "Zortéa               1\n",
      "Name: city_name, Length: 5299, dtype: int64\n"
     ]
    }
   ],
   "source": [
    "print(str(db_citie_coord['city_name'].value_counts(dropna = False)))\n"
   ]
  },
  {
   "cell_type": "markdown",
   "id": "0fb34778",
   "metadata": {},
   "source": [
    "Not necessary to change the database"
   ]
  },
  {
   "cell_type": "markdown",
   "id": "39d9ca95",
   "metadata": {},
   "source": [
    "## Analysing & Cleaning the data from brazil_covid19"
   ]
  },
  {
   "cell_type": "code",
   "execution_count": 3,
   "id": "27ad4ce3",
   "metadata": {},
   "outputs": [
    {
     "data": {
      "text/html": [
       "<div>\n",
       "<style scoped>\n",
       "    .dataframe tbody tr th:only-of-type {\n",
       "        vertical-align: middle;\n",
       "    }\n",
       "\n",
       "    .dataframe tbody tr th {\n",
       "        vertical-align: top;\n",
       "    }\n",
       "\n",
       "    .dataframe thead th {\n",
       "        text-align: right;\n",
       "    }\n",
       "</style>\n",
       "<table border=\"1\" class=\"dataframe\">\n",
       "  <thead>\n",
       "    <tr style=\"text-align: right;\">\n",
       "      <th></th>\n",
       "      <th>date</th>\n",
       "      <th>region</th>\n",
       "      <th>state</th>\n",
       "      <th>cases</th>\n",
       "      <th>deaths</th>\n",
       "    </tr>\n",
       "  </thead>\n",
       "  <tbody>\n",
       "    <tr>\n",
       "      <th>0</th>\n",
       "      <td>2020-02-25</td>\n",
       "      <td>Centro-Oeste</td>\n",
       "      <td>DF</td>\n",
       "      <td>0.0</td>\n",
       "      <td>0</td>\n",
       "    </tr>\n",
       "    <tr>\n",
       "      <th>1</th>\n",
       "      <td>2020-02-25</td>\n",
       "      <td>Centro-Oeste</td>\n",
       "      <td>GO</td>\n",
       "      <td>0.0</td>\n",
       "      <td>0</td>\n",
       "    </tr>\n",
       "    <tr>\n",
       "      <th>2</th>\n",
       "      <td>2020-02-25</td>\n",
       "      <td>Centro-Oeste</td>\n",
       "      <td>MS</td>\n",
       "      <td>0.0</td>\n",
       "      <td>0</td>\n",
       "    </tr>\n",
       "    <tr>\n",
       "      <th>3</th>\n",
       "      <td>2020-02-25</td>\n",
       "      <td>Centro-Oeste</td>\n",
       "      <td>MT</td>\n",
       "      <td>0.0</td>\n",
       "      <td>0</td>\n",
       "    </tr>\n",
       "    <tr>\n",
       "      <th>4</th>\n",
       "      <td>2020-02-25</td>\n",
       "      <td>Nordeste</td>\n",
       "      <td>AL</td>\n",
       "      <td>0.0</td>\n",
       "      <td>0</td>\n",
       "    </tr>\n",
       "  </tbody>\n",
       "</table>\n",
       "</div>"
      ],
      "text/plain": [
       "         date        region state  cases  deaths\n",
       "0  2020-02-25  Centro-Oeste    DF    0.0       0\n",
       "1  2020-02-25  Centro-Oeste    GO    0.0       0\n",
       "2  2020-02-25  Centro-Oeste    MS    0.0       0\n",
       "3  2020-02-25  Centro-Oeste    MT    0.0       0\n",
       "4  2020-02-25      Nordeste    AL    0.0       0"
      ]
     },
     "execution_count": 3,
     "metadata": {},
     "output_type": "execute_result"
    }
   ],
   "source": [
    "db_reg_coord = pd.read_csv(\"brazil_covid19.csv\")\n",
    "db_reg_coord.head(5)"
   ]
  },
  {
   "cell_type": "code",
   "execution_count": 4,
   "id": "613dd951",
   "metadata": {},
   "outputs": [
    {
     "data": {
      "text/html": [
       "<div>\n",
       "<style scoped>\n",
       "    .dataframe tbody tr th:only-of-type {\n",
       "        vertical-align: middle;\n",
       "    }\n",
       "\n",
       "    .dataframe tbody tr th {\n",
       "        vertical-align: top;\n",
       "    }\n",
       "\n",
       "    .dataframe thead th {\n",
       "        text-align: right;\n",
       "    }\n",
       "</style>\n",
       "<table border=\"1\" class=\"dataframe\">\n",
       "  <thead>\n",
       "    <tr style=\"text-align: right;\">\n",
       "      <th></th>\n",
       "      <th>cases</th>\n",
       "      <th>deaths</th>\n",
       "    </tr>\n",
       "  </thead>\n",
       "  <tbody>\n",
       "    <tr>\n",
       "      <th>count</th>\n",
       "      <td>1.225800e+04</td>\n",
       "      <td>12258.000000</td>\n",
       "    </tr>\n",
       "    <tr>\n",
       "      <th>mean</th>\n",
       "      <td>2.085151e+05</td>\n",
       "      <td>5701.935308</td>\n",
       "    </tr>\n",
       "    <tr>\n",
       "      <th>std</th>\n",
       "      <td>3.281497e+05</td>\n",
       "      <td>10238.310905</td>\n",
       "    </tr>\n",
       "    <tr>\n",
       "      <th>min</th>\n",
       "      <td>0.000000e+00</td>\n",
       "      <td>0.000000</td>\n",
       "    </tr>\n",
       "    <tr>\n",
       "      <th>25%</th>\n",
       "      <td>2.184225e+04</td>\n",
       "      <td>558.250000</td>\n",
       "    </tr>\n",
       "    <tr>\n",
       "      <th>50%</th>\n",
       "      <td>1.065500e+05</td>\n",
       "      <td>2627.000000</td>\n",
       "    </tr>\n",
       "    <tr>\n",
       "      <th>75%</th>\n",
       "      <td>2.524558e+05</td>\n",
       "      <td>6534.000000</td>\n",
       "    </tr>\n",
       "    <tr>\n",
       "      <th>max</th>\n",
       "      <td>3.188105e+06</td>\n",
       "      <td>107614.000000</td>\n",
       "    </tr>\n",
       "  </tbody>\n",
       "</table>\n",
       "</div>"
      ],
      "text/plain": [
       "              cases         deaths\n",
       "count  1.225800e+04   12258.000000\n",
       "mean   2.085151e+05    5701.935308\n",
       "std    3.281497e+05   10238.310905\n",
       "min    0.000000e+00       0.000000\n",
       "25%    2.184225e+04     558.250000\n",
       "50%    1.065500e+05    2627.000000\n",
       "75%    2.524558e+05    6534.000000\n",
       "max    3.188105e+06  107614.000000"
      ]
     },
     "execution_count": 4,
     "metadata": {},
     "output_type": "execute_result"
    }
   ],
   "source": [
    "db_reg_coord.describe()"
   ]
  },
  {
   "cell_type": "code",
   "execution_count": 5,
   "id": "6aae27e1",
   "metadata": {},
   "outputs": [
    {
     "data": {
      "text/plain": [
       "Index(['date', 'region', 'state', 'cases', 'deaths'], dtype='object')"
      ]
     },
     "execution_count": 5,
     "metadata": {},
     "output_type": "execute_result"
    }
   ],
   "source": [
    "db_reg_coord.columns"
   ]
  },
  {
   "cell_type": "code",
   "execution_count": 19,
   "id": "2c3beb7f",
   "metadata": {},
   "outputs": [
    {
     "data": {
      "image/png": "[encoded data removed]",
      "text/plain": [
       "<Figure size 432x288 with 1 Axes>"
      ]
     },
     "metadata": {
      "needs_background": "light"
     },
     "output_type": "display_data"
    },
    {
     "data": {
      "text/plain": [
       "<Figure size 1080x1008 with 0 Axes>"
      ]
     },
     "metadata": {},
     "output_type": "display_data"
    }
   ],
   "source": [
    "plt.title('Cases/Deaths per Region in Brazil')\n",
    "plt.xlabel('Region', fontsize=15)\n",
    "plt.ylabel('Quantity(in millions)', fontsize=15)\n",
    "plt.bar(db_reg_coord['region'], db_reg_coord['cases'])\n",
    "plt.bar(db_reg_coord['region'], db_reg_coord['deaths'])\n",
    "plt.legend(['Cases per million','Deaths per million'], fontsize=14)\n",
    "plt.figure(figsize=(15, 14))\n",
    "plt.show()"
   ]
  },
  {
   "cell_type": "code",
   "execution_count": 22,
   "id": "0866511e",
   "metadata": {},
   "outputs": [
    {
     "name": "stdout",
     "output_type": "stream",
     "text": [
      "Nordeste        4086\n",
      "Norte           3178\n",
      "Centro-Oeste    1816\n",
      "Sudeste         1816\n",
      "Sul             1362\n",
      "Name: region, dtype: int64\n",
      "\n",
      "DF    454\n",
      "AM    454\n",
      "RS    454\n",
      "PR    454\n",
      "SP    454\n",
      "RJ    454\n",
      "MG    454\n",
      "ES    454\n",
      "TO    454\n",
      "RR    454\n",
      "RO    454\n",
      "PA    454\n",
      "AP    454\n",
      "AC    454\n",
      "GO    454\n",
      "SE    454\n",
      "RN    454\n",
      "PI    454\n",
      "PE    454\n",
      "PB    454\n",
      "MA    454\n",
      "CE    454\n",
      "BA    454\n",
      "AL    454\n",
      "MT    454\n",
      "MS    454\n",
      "SC    454\n",
      "Name: state, dtype: int64\n",
      "\n"
     ]
    }
   ],
   "source": [
    "print(str(db_reg_coord['region'].value_counts(dropna = False)) + '\\n')\n",
    "print(str(db_reg_coord['state'].value_counts(dropna = False)) + '\\n')"
   ]
  },
  {
   "cell_type": "code",
   "execution_count": 23,
   "id": "dfaba6bb",
   "metadata": {},
   "outputs": [
    {
     "data": {
      "text/plain": [
       "count          12258\n",
       "unique           454\n",
       "top       2020-02-25\n",
       "freq              27\n",
       "Name: date, dtype: object"
      ]
     },
     "execution_count": 23,
     "metadata": {},
     "output_type": "execute_result"
    }
   ],
   "source": [
    "db_reg_coord['date'].describe()"
   ]
  },
  {
   "cell_type": "code",
   "execution_count": 29,
   "id": "921bb074",
   "metadata": {},
   "outputs": [
    {
     "data": {
      "text/plain": [
       "[<matplotlib.lines.Line2D at 0x229e533d670>]"
      ]
     },
     "execution_count": 29,
     "metadata": {},
     "output_type": "execute_result"
    },
    {
     "data": {
      "image/png": "[encoded data removed]",
      "text/plain": [
       "<Figure size 432x288 with 1 Axes>"
      ]
     },
     "metadata": {
      "needs_background": "light"
     },
     "output_type": "display_data"
    }
   ],
   "source": [
    "plt.plot(db_reg_coord['cases'])\n",
    "plt.plot(db_reg_coord['deaths'])"
   ]
  },
  {
   "cell_type": "markdown",
   "id": "63856fb5",
   "metadata": {},
   "source": [
    "Not necessary to change the database"
   ]
  },
  {
   "cell_type": "markdown",
   "id": "8d28abdc",
   "metadata": {},
   "source": [
    "# Analysing & Cleaning the data from brazil_covid19_macro.csv"
   ]
  },
  {
   "cell_type": "code",
   "execution_count": null,
   "id": "03c70c6f",
   "metadata": {},
   "outputs": [],
   "source": []
  }
 ],
 "metadata": {
  "kernelspec": {
   "display_name": "Python 3 (ipykernel)",
   "language": "python",
   "name": "python3"
  },
  "language_info": {
   "codemirror_mode": {
    "name": "ipython",
    "version": 3
   },
   "file_extension": ".py",
   "mimetype": "text/x-python",
   "name": "python",
   "nbconvert_exporter": "python",
   "pygments_lexer": "ipython3",
   "version": "3.9.7"
  }
 },
 "nbformat": 4,
 "nbformat_minor": 5
}

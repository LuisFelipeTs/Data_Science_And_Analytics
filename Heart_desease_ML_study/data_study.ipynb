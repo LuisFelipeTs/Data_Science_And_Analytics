{
 "cells": [
  {
   "cell_type": "markdown",
   "id": "1ee699c8",
   "metadata": {},
   "source": [
    "# The data present in the process is from Kaggle \n",
    "Link : https://www.kaggle.com/kamilpytlak/personal-key-indicators-of-heart-disease"
   ]
  },
  {
   "cell_type": "code",
   "execution_count": 1,
   "id": "f993c764",
   "metadata": {},
   "outputs": [],
   "source": [
    "import pandas as pd\n",
    "import seaborn as sns\n",
    "import numpy as np\n",
    "\n",
    "from sklearn.model_selection import train_test_split\n",
    "from sklearn.preprocessing import OneHotEncoder\n",
    "from sklearn.metrics import confusion_matrix, accuracy_score\n",
    "from sklearn.ensemble import RandomForestClassifier\n",
    "import matplotlib.pyplot as plt"
   ]
  },
  {
   "cell_type": "code",
   "execution_count": 2,
   "id": "1a16a7a6",
   "metadata": {},
   "outputs": [],
   "source": [
    "database_ = pd.read_csv('heart_2020_cleaned.csv')"
   ]
  },
  {
   "cell_type": "code",
   "execution_count": 3,
   "id": "8c1f4d21",
   "metadata": {},
   "outputs": [
    {
     "data": {
      "text/html": [
       "<div>\n",
       "<style scoped>\n",
       "    .dataframe tbody tr th:only-of-type {\n",
       "        vertical-align: middle;\n",
       "    }\n",
       "\n",
       "    .dataframe tbody tr th {\n",
       "        vertical-align: top;\n",
       "    }\n",
       "\n",
       "    .dataframe thead th {\n",
       "        text-align: right;\n",
       "    }\n",
       "</style>\n",
       "<table border=\"1\" class=\"dataframe\">\n",
       "  <thead>\n",
       "    <tr style=\"text-align: right;\">\n",
       "      <th></th>\n",
       "      <th>BMI</th>\n",
       "      <th>PhysicalHealth</th>\n",
       "      <th>MentalHealth</th>\n",
       "      <th>SleepTime</th>\n",
       "    </tr>\n",
       "  </thead>\n",
       "  <tbody>\n",
       "    <tr>\n",
       "      <th>count</th>\n",
       "      <td>319795.000000</td>\n",
       "      <td>319795.00000</td>\n",
       "      <td>319795.000000</td>\n",
       "      <td>319795.000000</td>\n",
       "    </tr>\n",
       "    <tr>\n",
       "      <th>mean</th>\n",
       "      <td>28.325399</td>\n",
       "      <td>3.37171</td>\n",
       "      <td>3.898366</td>\n",
       "      <td>7.097075</td>\n",
       "    </tr>\n",
       "    <tr>\n",
       "      <th>std</th>\n",
       "      <td>6.356100</td>\n",
       "      <td>7.95085</td>\n",
       "      <td>7.955235</td>\n",
       "      <td>1.436007</td>\n",
       "    </tr>\n",
       "    <tr>\n",
       "      <th>min</th>\n",
       "      <td>12.020000</td>\n",
       "      <td>0.00000</td>\n",
       "      <td>0.000000</td>\n",
       "      <td>1.000000</td>\n",
       "    </tr>\n",
       "    <tr>\n",
       "      <th>25%</th>\n",
       "      <td>24.030000</td>\n",
       "      <td>0.00000</td>\n",
       "      <td>0.000000</td>\n",
       "      <td>6.000000</td>\n",
       "    </tr>\n",
       "    <tr>\n",
       "      <th>50%</th>\n",
       "      <td>27.340000</td>\n",
       "      <td>0.00000</td>\n",
       "      <td>0.000000</td>\n",
       "      <td>7.000000</td>\n",
       "    </tr>\n",
       "    <tr>\n",
       "      <th>75%</th>\n",
       "      <td>31.420000</td>\n",
       "      <td>2.00000</td>\n",
       "      <td>3.000000</td>\n",
       "      <td>8.000000</td>\n",
       "    </tr>\n",
       "    <tr>\n",
       "      <th>max</th>\n",
       "      <td>94.850000</td>\n",
       "      <td>30.00000</td>\n",
       "      <td>30.000000</td>\n",
       "      <td>24.000000</td>\n",
       "    </tr>\n",
       "  </tbody>\n",
       "</table>\n",
       "</div>"
      ],
      "text/plain": [
       "                 BMI  PhysicalHealth   MentalHealth      SleepTime\n",
       "count  319795.000000    319795.00000  319795.000000  319795.000000\n",
       "mean       28.325399         3.37171       3.898366       7.097075\n",
       "std         6.356100         7.95085       7.955235       1.436007\n",
       "min        12.020000         0.00000       0.000000       1.000000\n",
       "25%        24.030000         0.00000       0.000000       6.000000\n",
       "50%        27.340000         0.00000       0.000000       7.000000\n",
       "75%        31.420000         2.00000       3.000000       8.000000\n",
       "max        94.850000        30.00000      30.000000      24.000000"
      ]
     },
     "execution_count": 3,
     "metadata": {},
     "output_type": "execute_result"
    }
   ],
   "source": [
    "database_.describe()"
   ]
  },
  {
   "cell_type": "code",
   "execution_count": 4,
   "id": "c5d88180",
   "metadata": {},
   "outputs": [
    {
     "data": {
      "text/html": [
       "<div>\n",
       "<style scoped>\n",
       "    .dataframe tbody tr th:only-of-type {\n",
       "        vertical-align: middle;\n",
       "    }\n",
       "\n",
       "    .dataframe tbody tr th {\n",
       "        vertical-align: top;\n",
       "    }\n",
       "\n",
       "    .dataframe thead th {\n",
       "        text-align: right;\n",
       "    }\n",
       "</style>\n",
       "<table border=\"1\" class=\"dataframe\">\n",
       "  <thead>\n",
       "    <tr style=\"text-align: right;\">\n",
       "      <th></th>\n",
       "      <th>HeartDisease</th>\n",
       "      <th>BMI</th>\n",
       "      <th>Smoking</th>\n",
       "      <th>AlcoholDrinking</th>\n",
       "      <th>Stroke</th>\n",
       "      <th>PhysicalHealth</th>\n",
       "      <th>MentalHealth</th>\n",
       "      <th>DiffWalking</th>\n",
       "      <th>Sex</th>\n",
       "      <th>AgeCategory</th>\n",
       "      <th>Race</th>\n",
       "      <th>Diabetic</th>\n",
       "      <th>PhysicalActivity</th>\n",
       "      <th>GenHealth</th>\n",
       "      <th>SleepTime</th>\n",
       "      <th>Asthma</th>\n",
       "      <th>KidneyDisease</th>\n",
       "      <th>SkinCancer</th>\n",
       "    </tr>\n",
       "  </thead>\n",
       "  <tbody>\n",
       "    <tr>\n",
       "      <th>0</th>\n",
       "      <td>No</td>\n",
       "      <td>16.60</td>\n",
       "      <td>Yes</td>\n",
       "      <td>No</td>\n",
       "      <td>No</td>\n",
       "      <td>3.0</td>\n",
       "      <td>30.0</td>\n",
       "      <td>No</td>\n",
       "      <td>Female</td>\n",
       "      <td>55-59</td>\n",
       "      <td>White</td>\n",
       "      <td>Yes</td>\n",
       "      <td>Yes</td>\n",
       "      <td>Very good</td>\n",
       "      <td>5.0</td>\n",
       "      <td>Yes</td>\n",
       "      <td>No</td>\n",
       "      <td>Yes</td>\n",
       "    </tr>\n",
       "    <tr>\n",
       "      <th>1</th>\n",
       "      <td>No</td>\n",
       "      <td>20.34</td>\n",
       "      <td>No</td>\n",
       "      <td>No</td>\n",
       "      <td>Yes</td>\n",
       "      <td>0.0</td>\n",
       "      <td>0.0</td>\n",
       "      <td>No</td>\n",
       "      <td>Female</td>\n",
       "      <td>80 or older</td>\n",
       "      <td>White</td>\n",
       "      <td>No</td>\n",
       "      <td>Yes</td>\n",
       "      <td>Very good</td>\n",
       "      <td>7.0</td>\n",
       "      <td>No</td>\n",
       "      <td>No</td>\n",
       "      <td>No</td>\n",
       "    </tr>\n",
       "    <tr>\n",
       "      <th>2</th>\n",
       "      <td>No</td>\n",
       "      <td>26.58</td>\n",
       "      <td>Yes</td>\n",
       "      <td>No</td>\n",
       "      <td>No</td>\n",
       "      <td>20.0</td>\n",
       "      <td>30.0</td>\n",
       "      <td>No</td>\n",
       "      <td>Male</td>\n",
       "      <td>65-69</td>\n",
       "      <td>White</td>\n",
       "      <td>Yes</td>\n",
       "      <td>Yes</td>\n",
       "      <td>Fair</td>\n",
       "      <td>8.0</td>\n",
       "      <td>Yes</td>\n",
       "      <td>No</td>\n",
       "      <td>No</td>\n",
       "    </tr>\n",
       "    <tr>\n",
       "      <th>3</th>\n",
       "      <td>No</td>\n",
       "      <td>24.21</td>\n",
       "      <td>No</td>\n",
       "      <td>No</td>\n",
       "      <td>No</td>\n",
       "      <td>0.0</td>\n",
       "      <td>0.0</td>\n",
       "      <td>No</td>\n",
       "      <td>Female</td>\n",
       "      <td>75-79</td>\n",
       "      <td>White</td>\n",
       "      <td>No</td>\n",
       "      <td>No</td>\n",
       "      <td>Good</td>\n",
       "      <td>6.0</td>\n",
       "      <td>No</td>\n",
       "      <td>No</td>\n",
       "      <td>Yes</td>\n",
       "    </tr>\n",
       "    <tr>\n",
       "      <th>4</th>\n",
       "      <td>No</td>\n",
       "      <td>23.71</td>\n",
       "      <td>No</td>\n",
       "      <td>No</td>\n",
       "      <td>No</td>\n",
       "      <td>28.0</td>\n",
       "      <td>0.0</td>\n",
       "      <td>Yes</td>\n",
       "      <td>Female</td>\n",
       "      <td>40-44</td>\n",
       "      <td>White</td>\n",
       "      <td>No</td>\n",
       "      <td>Yes</td>\n",
       "      <td>Very good</td>\n",
       "      <td>8.0</td>\n",
       "      <td>No</td>\n",
       "      <td>No</td>\n",
       "      <td>No</td>\n",
       "    </tr>\n",
       "  </tbody>\n",
       "</table>\n",
       "</div>"
      ],
      "text/plain": [
       "  HeartDisease    BMI Smoking AlcoholDrinking Stroke  PhysicalHealth  \\\n",
       "0           No  16.60     Yes              No     No             3.0   \n",
       "1           No  20.34      No              No    Yes             0.0   \n",
       "2           No  26.58     Yes              No     No            20.0   \n",
       "3           No  24.21      No              No     No             0.0   \n",
       "4           No  23.71      No              No     No            28.0   \n",
       "\n",
       "   MentalHealth DiffWalking     Sex  AgeCategory   Race Diabetic  \\\n",
       "0          30.0          No  Female        55-59  White      Yes   \n",
       "1           0.0          No  Female  80 or older  White       No   \n",
       "2          30.0          No    Male        65-69  White      Yes   \n",
       "3           0.0          No  Female        75-79  White       No   \n",
       "4           0.0         Yes  Female        40-44  White       No   \n",
       "\n",
       "  PhysicalActivity  GenHealth  SleepTime Asthma KidneyDisease SkinCancer  \n",
       "0              Yes  Very good        5.0    Yes            No        Yes  \n",
       "1              Yes  Very good        7.0     No            No         No  \n",
       "2              Yes       Fair        8.0    Yes            No         No  \n",
       "3               No       Good        6.0     No            No        Yes  \n",
       "4              Yes  Very good        8.0     No            No         No  "
      ]
     },
     "execution_count": 4,
     "metadata": {},
     "output_type": "execute_result"
    }
   ],
   "source": [
    "database_.head()"
   ]
  },
  {
   "cell_type": "markdown",
   "id": "a9a60745",
   "metadata": {},
   "source": [
    "# Restricting the sample population 80 or older"
   ]
  },
  {
   "cell_type": "code",
   "execution_count": 5,
   "id": "6185ebca",
   "metadata": {},
   "outputs": [],
   "source": [
    "database_r = database_.loc[database_['AgeCategory'] == '80 or older', :].copy()"
   ]
  },
  {
   "cell_type": "markdown",
   "id": "3e218fff",
   "metadata": {},
   "source": [
    "Removing column of AgeCategory & race that I will not use for the ML model"
   ]
  },
  {
   "cell_type": "code",
   "execution_count": 6,
   "id": "d776b04a",
   "metadata": {},
   "outputs": [],
   "source": [
    "del database_r['Race']\n",
    "del database_r['AgeCategory']"
   ]
  },
  {
   "cell_type": "code",
   "execution_count": 7,
   "id": "2de1c248",
   "metadata": {},
   "outputs": [
    {
     "data": {
      "text/html": [
       "<div>\n",
       "<style scoped>\n",
       "    .dataframe tbody tr th:only-of-type {\n",
       "        vertical-align: middle;\n",
       "    }\n",
       "\n",
       "    .dataframe tbody tr th {\n",
       "        vertical-align: top;\n",
       "    }\n",
       "\n",
       "    .dataframe thead th {\n",
       "        text-align: right;\n",
       "    }\n",
       "</style>\n",
       "<table border=\"1\" class=\"dataframe\">\n",
       "  <thead>\n",
       "    <tr style=\"text-align: right;\">\n",
       "      <th></th>\n",
       "      <th>HeartDisease</th>\n",
       "      <th>BMI</th>\n",
       "      <th>Smoking</th>\n",
       "      <th>AlcoholDrinking</th>\n",
       "      <th>Stroke</th>\n",
       "      <th>PhysicalHealth</th>\n",
       "      <th>MentalHealth</th>\n",
       "      <th>DiffWalking</th>\n",
       "      <th>Sex</th>\n",
       "      <th>Diabetic</th>\n",
       "      <th>PhysicalActivity</th>\n",
       "      <th>GenHealth</th>\n",
       "      <th>SleepTime</th>\n",
       "      <th>Asthma</th>\n",
       "      <th>KidneyDisease</th>\n",
       "      <th>SkinCancer</th>\n",
       "    </tr>\n",
       "  </thead>\n",
       "  <tbody>\n",
       "    <tr>\n",
       "      <th>1</th>\n",
       "      <td>No</td>\n",
       "      <td>20.34</td>\n",
       "      <td>No</td>\n",
       "      <td>No</td>\n",
       "      <td>Yes</td>\n",
       "      <td>0.0</td>\n",
       "      <td>0.0</td>\n",
       "      <td>No</td>\n",
       "      <td>Female</td>\n",
       "      <td>No</td>\n",
       "      <td>Yes</td>\n",
       "      <td>Very good</td>\n",
       "      <td>7.0</td>\n",
       "      <td>No</td>\n",
       "      <td>No</td>\n",
       "      <td>No</td>\n",
       "    </tr>\n",
       "    <tr>\n",
       "      <th>7</th>\n",
       "      <td>No</td>\n",
       "      <td>31.64</td>\n",
       "      <td>Yes</td>\n",
       "      <td>No</td>\n",
       "      <td>No</td>\n",
       "      <td>5.0</td>\n",
       "      <td>0.0</td>\n",
       "      <td>Yes</td>\n",
       "      <td>Female</td>\n",
       "      <td>Yes</td>\n",
       "      <td>No</td>\n",
       "      <td>Good</td>\n",
       "      <td>9.0</td>\n",
       "      <td>Yes</td>\n",
       "      <td>No</td>\n",
       "      <td>No</td>\n",
       "    </tr>\n",
       "    <tr>\n",
       "      <th>8</th>\n",
       "      <td>No</td>\n",
       "      <td>26.45</td>\n",
       "      <td>No</td>\n",
       "      <td>No</td>\n",
       "      <td>No</td>\n",
       "      <td>0.0</td>\n",
       "      <td>0.0</td>\n",
       "      <td>No</td>\n",
       "      <td>Female</td>\n",
       "      <td>No, borderline diabetes</td>\n",
       "      <td>No</td>\n",
       "      <td>Fair</td>\n",
       "      <td>5.0</td>\n",
       "      <td>No</td>\n",
       "      <td>Yes</td>\n",
       "      <td>No</td>\n",
       "    </tr>\n",
       "    <tr>\n",
       "      <th>13</th>\n",
       "      <td>No</td>\n",
       "      <td>28.15</td>\n",
       "      <td>No</td>\n",
       "      <td>No</td>\n",
       "      <td>No</td>\n",
       "      <td>7.0</td>\n",
       "      <td>0.0</td>\n",
       "      <td>Yes</td>\n",
       "      <td>Female</td>\n",
       "      <td>No</td>\n",
       "      <td>No</td>\n",
       "      <td>Good</td>\n",
       "      <td>7.0</td>\n",
       "      <td>No</td>\n",
       "      <td>No</td>\n",
       "      <td>No</td>\n",
       "    </tr>\n",
       "    <tr>\n",
       "      <th>19</th>\n",
       "      <td>No</td>\n",
       "      <td>18.13</td>\n",
       "      <td>No</td>\n",
       "      <td>No</td>\n",
       "      <td>No</td>\n",
       "      <td>0.0</td>\n",
       "      <td>0.0</td>\n",
       "      <td>No</td>\n",
       "      <td>Male</td>\n",
       "      <td>No</td>\n",
       "      <td>Yes</td>\n",
       "      <td>Excellent</td>\n",
       "      <td>8.0</td>\n",
       "      <td>No</td>\n",
       "      <td>No</td>\n",
       "      <td>Yes</td>\n",
       "    </tr>\n",
       "  </tbody>\n",
       "</table>\n",
       "</div>"
      ],
      "text/plain": [
       "   HeartDisease    BMI Smoking AlcoholDrinking Stroke  PhysicalHealth  \\\n",
       "1            No  20.34      No              No    Yes             0.0   \n",
       "7            No  31.64     Yes              No     No             5.0   \n",
       "8            No  26.45      No              No     No             0.0   \n",
       "13           No  28.15      No              No     No             7.0   \n",
       "19           No  18.13      No              No     No             0.0   \n",
       "\n",
       "    MentalHealth DiffWalking     Sex                 Diabetic  \\\n",
       "1            0.0          No  Female                       No   \n",
       "7            0.0         Yes  Female                      Yes   \n",
       "8            0.0          No  Female  No, borderline diabetes   \n",
       "13           0.0         Yes  Female                       No   \n",
       "19           0.0          No    Male                       No   \n",
       "\n",
       "   PhysicalActivity  GenHealth  SleepTime Asthma KidneyDisease SkinCancer  \n",
       "1               Yes  Very good        7.0     No            No         No  \n",
       "7                No       Good        9.0    Yes            No         No  \n",
       "8                No       Fair        5.0     No           Yes         No  \n",
       "13               No       Good        7.0     No            No         No  \n",
       "19              Yes  Excellent        8.0     No            No        Yes  "
      ]
     },
     "execution_count": 7,
     "metadata": {},
     "output_type": "execute_result"
    }
   ],
   "source": [
    "database_r.head()"
   ]
  },
  {
   "cell_type": "markdown",
   "id": "85a72298",
   "metadata": {},
   "source": [
    "Checking for incorrect data"
   ]
  },
  {
   "cell_type": "code",
   "execution_count": 8,
   "id": "91000199",
   "metadata": {},
   "outputs": [
    {
     "name": "stdout",
     "output_type": "stream",
     "text": [
      "No     18704\n",
      "Yes     5449\n",
      "Name: HeartDisease, dtype: int64\n",
      "\n",
      "No     13626\n",
      "Yes    10527\n",
      "Name: Smoking, dtype: int64\n",
      "\n",
      "No     23471\n",
      "Yes      682\n",
      "Name: AlcoholDrinking, dtype: int64\n",
      "\n",
      "No     21855\n",
      "Yes     2298\n",
      "Name: Stroke, dtype: int64\n",
      "\n",
      "Female    14716\n",
      "Male       9437\n",
      "Name: Sex, dtype: int64\n",
      "\n",
      "No     16213\n",
      "Yes     7940\n",
      "Name: DiffWalking, dtype: int64\n",
      "\n",
      "No                         18928\n",
      "Yes                         4428\n",
      "No, borderline diabetes      691\n",
      "Yes (during pregnancy)       106\n",
      "Name: Diabetic, dtype: int64\n",
      "\n",
      "Yes    15464\n",
      "No      8689\n",
      "Name: PhysicalActivity, dtype: int64\n",
      "\n",
      "No     21908\n",
      "Yes     2245\n",
      "Name: Asthma, dtype: int64\n",
      "\n",
      "No     22186\n",
      "Yes     1967\n",
      "Name: KidneyDisease, dtype: int64\n",
      "\n",
      "No     17918\n",
      "Yes     6235\n",
      "Name: SkinCancer, dtype: int64\n",
      "\n"
     ]
    }
   ],
   "source": [
    "print(str(database_r['HeartDisease'].value_counts(dropna = False)) + '\\n')\n",
    "print(str(database_r['Smoking'].value_counts(dropna = False)) + '\\n')\n",
    "print(str(database_r['AlcoholDrinking'].value_counts(dropna = False)) + '\\n')\n",
    "print(str(database_r['Stroke'].value_counts(dropna = False)) + '\\n')\n",
    "print(str(database_r['Sex'].value_counts(dropna = False)) + '\\n')\n",
    "print(str(database_r['DiffWalking'].value_counts(dropna = False)) + '\\n')\n",
    "print(str(database_r['Diabetic'].value_counts(dropna = False)) + '\\n')\n",
    "print(str(database_r['PhysicalActivity'].value_counts(dropna = False)) + '\\n')\n",
    "print(str(database_r['Asthma'].value_counts(dropna = False)) + '\\n')\n",
    "print(str(database_r['KidneyDisease'].value_counts(dropna = False)) + '\\n')\n",
    "print(str(database_r['SkinCancer'].value_counts(dropna = False)) + '\\n')"
   ]
  },
  {
   "cell_type": "code",
   "execution_count": 9,
   "id": "ae047bbe",
   "metadata": {},
   "outputs": [
    {
     "name": "stdout",
     "output_type": "stream",
     "text": [
      "count    24153.000000\n",
      "mean        26.217710\n",
      "std          4.841412\n",
      "min         12.480000\n",
      "25%         23.010000\n",
      "50%         25.710000\n",
      "75%         28.850000\n",
      "max         88.190000\n",
      "Name: BMI, dtype: float64\n",
      "count    24153.000000\n",
      "mean         4.473854\n",
      "std          9.335911\n",
      "min          0.000000\n",
      "25%          0.000000\n",
      "50%          0.000000\n",
      "75%          3.000000\n",
      "max         30.000000\n",
      "Name: PhysicalHealth, dtype: float64\n",
      "count    24153.00000\n",
      "mean         1.90229\n",
      "std          5.94533\n",
      "min          0.00000\n",
      "25%          0.00000\n",
      "50%          0.00000\n",
      "75%          0.00000\n",
      "max         30.00000\n",
      "Name: MentalHealth, dtype: float64\n",
      "count    24153.000000\n",
      "mean         7.540802\n",
      "std          1.571500\n",
      "min          1.000000\n",
      "25%          7.000000\n",
      "50%          8.000000\n",
      "75%          8.000000\n",
      "max         24.000000\n",
      "Name: SleepTime, dtype: float64\n"
     ]
    }
   ],
   "source": [
    "print(database_r['BMI'].describe())\n",
    "print(database_r['PhysicalHealth'].describe())\n",
    "print(database_r['MentalHealth'].describe())\n",
    "print(database_r['SleepTime'].describe())"
   ]
  },
  {
   "cell_type": "code",
   "execution_count": 10,
   "id": "441afc04",
   "metadata": {},
   "outputs": [
    {
     "data": {
      "text/plain": [
       "Good         8497\n",
       "Very good    7500\n",
       "Fair         3934\n",
       "Excellent    2788\n",
       "Poor         1434\n",
       "Name: GenHealth, dtype: int64"
      ]
     },
     "execution_count": 10,
     "metadata": {},
     "output_type": "execute_result"
    }
   ],
   "source": [
    "database_r['GenHealth'].value_counts()"
   ]
  },
  {
   "cell_type": "markdown",
   "id": "76a9eab6",
   "metadata": {},
   "source": [
    "The Data Is already with some treatment level"
   ]
  },
  {
   "cell_type": "markdown",
   "id": "b2779f70",
   "metadata": {},
   "source": [
    "# Transforming categorical ordinal and binary data into numeric\n",
    "(HeartDisease, Smoking, AlcoholDrinking, Stroke, DiffWalking, Sex, Diabetic, PhysicalActivity, Asthma, KidneyDisease, SkinCancer)"
   ]
  },
  {
   "cell_type": "markdown",
   "id": "4b260b3a",
   "metadata": {},
   "source": [
    "# Binary cases"
   ]
  },
  {
   "cell_type": "code",
   "execution_count": 11,
   "id": "2faf3d11",
   "metadata": {},
   "outputs": [
    {
     "data": {
      "text/html": [
       "<div>\n",
       "<style scoped>\n",
       "    .dataframe tbody tr th:only-of-type {\n",
       "        vertical-align: middle;\n",
       "    }\n",
       "\n",
       "    .dataframe tbody tr th {\n",
       "        vertical-align: top;\n",
       "    }\n",
       "\n",
       "    .dataframe thead th {\n",
       "        text-align: right;\n",
       "    }\n",
       "</style>\n",
       "<table border=\"1\" class=\"dataframe\">\n",
       "  <thead>\n",
       "    <tr style=\"text-align: right;\">\n",
       "      <th></th>\n",
       "      <th>HeartDisease</th>\n",
       "      <th>BMI</th>\n",
       "      <th>Smoking</th>\n",
       "      <th>AlcoholDrinking</th>\n",
       "      <th>Stroke</th>\n",
       "      <th>PhysicalHealth</th>\n",
       "      <th>MentalHealth</th>\n",
       "      <th>DiffWalking</th>\n",
       "      <th>Sex</th>\n",
       "      <th>Diabetic</th>\n",
       "      <th>PhysicalActivity</th>\n",
       "      <th>GenHealth</th>\n",
       "      <th>SleepTime</th>\n",
       "      <th>Asthma</th>\n",
       "      <th>KidneyDisease</th>\n",
       "      <th>SkinCancer</th>\n",
       "    </tr>\n",
       "  </thead>\n",
       "  <tbody>\n",
       "    <tr>\n",
       "      <th>1</th>\n",
       "      <td>0</td>\n",
       "      <td>20.34</td>\n",
       "      <td>0</td>\n",
       "      <td>0</td>\n",
       "      <td>1</td>\n",
       "      <td>0.0</td>\n",
       "      <td>0.0</td>\n",
       "      <td>0</td>\n",
       "      <td>Female</td>\n",
       "      <td>No</td>\n",
       "      <td>1</td>\n",
       "      <td>Very good</td>\n",
       "      <td>7.0</td>\n",
       "      <td>0</td>\n",
       "      <td>0</td>\n",
       "      <td>0</td>\n",
       "    </tr>\n",
       "    <tr>\n",
       "      <th>7</th>\n",
       "      <td>0</td>\n",
       "      <td>31.64</td>\n",
       "      <td>1</td>\n",
       "      <td>0</td>\n",
       "      <td>0</td>\n",
       "      <td>5.0</td>\n",
       "      <td>0.0</td>\n",
       "      <td>1</td>\n",
       "      <td>Female</td>\n",
       "      <td>Yes</td>\n",
       "      <td>0</td>\n",
       "      <td>Good</td>\n",
       "      <td>9.0</td>\n",
       "      <td>1</td>\n",
       "      <td>0</td>\n",
       "      <td>0</td>\n",
       "    </tr>\n",
       "    <tr>\n",
       "      <th>8</th>\n",
       "      <td>0</td>\n",
       "      <td>26.45</td>\n",
       "      <td>0</td>\n",
       "      <td>0</td>\n",
       "      <td>0</td>\n",
       "      <td>0.0</td>\n",
       "      <td>0.0</td>\n",
       "      <td>0</td>\n",
       "      <td>Female</td>\n",
       "      <td>No, borderline diabetes</td>\n",
       "      <td>0</td>\n",
       "      <td>Fair</td>\n",
       "      <td>5.0</td>\n",
       "      <td>0</td>\n",
       "      <td>1</td>\n",
       "      <td>0</td>\n",
       "    </tr>\n",
       "    <tr>\n",
       "      <th>13</th>\n",
       "      <td>0</td>\n",
       "      <td>28.15</td>\n",
       "      <td>0</td>\n",
       "      <td>0</td>\n",
       "      <td>0</td>\n",
       "      <td>7.0</td>\n",
       "      <td>0.0</td>\n",
       "      <td>1</td>\n",
       "      <td>Female</td>\n",
       "      <td>No</td>\n",
       "      <td>0</td>\n",
       "      <td>Good</td>\n",
       "      <td>7.0</td>\n",
       "      <td>0</td>\n",
       "      <td>0</td>\n",
       "      <td>0</td>\n",
       "    </tr>\n",
       "    <tr>\n",
       "      <th>19</th>\n",
       "      <td>0</td>\n",
       "      <td>18.13</td>\n",
       "      <td>0</td>\n",
       "      <td>0</td>\n",
       "      <td>0</td>\n",
       "      <td>0.0</td>\n",
       "      <td>0.0</td>\n",
       "      <td>0</td>\n",
       "      <td>Male</td>\n",
       "      <td>No</td>\n",
       "      <td>1</td>\n",
       "      <td>Excellent</td>\n",
       "      <td>8.0</td>\n",
       "      <td>0</td>\n",
       "      <td>0</td>\n",
       "      <td>1</td>\n",
       "    </tr>\n",
       "  </tbody>\n",
       "</table>\n",
       "</div>"
      ],
      "text/plain": [
       "    HeartDisease    BMI  Smoking  AlcoholDrinking  Stroke  PhysicalHealth  \\\n",
       "1              0  20.34        0                0       1             0.0   \n",
       "7              0  31.64        1                0       0             5.0   \n",
       "8              0  26.45        0                0       0             0.0   \n",
       "13             0  28.15        0                0       0             7.0   \n",
       "19             0  18.13        0                0       0             0.0   \n",
       "\n",
       "    MentalHealth  DiffWalking     Sex                 Diabetic  \\\n",
       "1            0.0            0  Female                       No   \n",
       "7            0.0            1  Female                      Yes   \n",
       "8            0.0            0  Female  No, borderline diabetes   \n",
       "13           0.0            1  Female                       No   \n",
       "19           0.0            0    Male                       No   \n",
       "\n",
       "    PhysicalActivity  GenHealth  SleepTime  Asthma  KidneyDisease  SkinCancer  \n",
       "1                  1  Very good        7.0       0              0           0  \n",
       "7                  0       Good        9.0       1              0           0  \n",
       "8                  0       Fair        5.0       0              1           0  \n",
       "13                 0       Good        7.0       0              0           0  \n",
       "19                 1  Excellent        8.0       0              0           1  "
      ]
     },
     "execution_count": 11,
     "metadata": {},
     "output_type": "execute_result"
    }
   ],
   "source": [
    "#Yes ou No cases\n",
    "binary_yn_mapper = {\"Yes\": 1,\"No\": 0}\n",
    "\n",
    "database_r['HeartDisease'] = database_r[\"HeartDisease\"].replace(binary_yn_mapper)\n",
    "database_r['Smoking'] = database_r[\"Smoking\"].replace(binary_yn_mapper)\n",
    "database_r['AlcoholDrinking'] = database_r[\"AlcoholDrinking\"].replace(binary_yn_mapper)\n",
    "database_r['Stroke'] = database_r[\"Stroke\"].replace(binary_yn_mapper)\n",
    "database_r['DiffWalking'] = database_r[\"DiffWalking\"].replace(binary_yn_mapper)\n",
    "database_r['PhysicalActivity'] = database_r[\"PhysicalActivity\"].replace(binary_yn_mapper)\n",
    "database_r['Asthma'] = database_r[\"Asthma\"].replace(binary_yn_mapper)\n",
    "database_r['KidneyDisease'] = database_r[\"KidneyDisease\"].replace(binary_yn_mapper)\n",
    "database_r['SkinCancer'] = database_r[\"SkinCancer\"].replace(binary_yn_mapper)\n",
    "\n",
    "database_r.head()"
   ]
  },
  {
   "cell_type": "code",
   "execution_count": 20,
   "id": "5a1fad14",
   "metadata": {},
   "outputs": [
    {
     "data": {
      "text/html": [
       "<div>\n",
       "<style scoped>\n",
       "    .dataframe tbody tr th:only-of-type {\n",
       "        vertical-align: middle;\n",
       "    }\n",
       "\n",
       "    .dataframe tbody tr th {\n",
       "        vertical-align: top;\n",
       "    }\n",
       "\n",
       "    .dataframe thead th {\n",
       "        text-align: right;\n",
       "    }\n",
       "</style>\n",
       "<table border=\"1\" class=\"dataframe\">\n",
       "  <thead>\n",
       "    <tr style=\"text-align: right;\">\n",
       "      <th></th>\n",
       "      <th>HeartDisease</th>\n",
       "      <th>BMI</th>\n",
       "      <th>Smoking</th>\n",
       "      <th>AlcoholDrinking</th>\n",
       "      <th>Stroke</th>\n",
       "      <th>PhysicalHealth</th>\n",
       "      <th>MentalHealth</th>\n",
       "      <th>DiffWalking</th>\n",
       "      <th>Sex</th>\n",
       "      <th>Diabetic</th>\n",
       "      <th>PhysicalActivity</th>\n",
       "      <th>GenHealth</th>\n",
       "      <th>SleepTime</th>\n",
       "      <th>Asthma</th>\n",
       "      <th>KidneyDisease</th>\n",
       "      <th>SkinCancer</th>\n",
       "    </tr>\n",
       "  </thead>\n",
       "  <tbody>\n",
       "    <tr>\n",
       "      <th>1</th>\n",
       "      <td>0</td>\n",
       "      <td>20.34</td>\n",
       "      <td>0</td>\n",
       "      <td>0</td>\n",
       "      <td>1</td>\n",
       "      <td>0.0</td>\n",
       "      <td>0.0</td>\n",
       "      <td>0</td>\n",
       "      <td>1</td>\n",
       "      <td>No</td>\n",
       "      <td>1</td>\n",
       "      <td>Very good</td>\n",
       "      <td>7.0</td>\n",
       "      <td>0</td>\n",
       "      <td>0</td>\n",
       "      <td>0</td>\n",
       "    </tr>\n",
       "    <tr>\n",
       "      <th>7</th>\n",
       "      <td>0</td>\n",
       "      <td>31.64</td>\n",
       "      <td>1</td>\n",
       "      <td>0</td>\n",
       "      <td>0</td>\n",
       "      <td>5.0</td>\n",
       "      <td>0.0</td>\n",
       "      <td>1</td>\n",
       "      <td>1</td>\n",
       "      <td>Yes</td>\n",
       "      <td>0</td>\n",
       "      <td>Good</td>\n",
       "      <td>9.0</td>\n",
       "      <td>1</td>\n",
       "      <td>0</td>\n",
       "      <td>0</td>\n",
       "    </tr>\n",
       "    <tr>\n",
       "      <th>8</th>\n",
       "      <td>0</td>\n",
       "      <td>26.45</td>\n",
       "      <td>0</td>\n",
       "      <td>0</td>\n",
       "      <td>0</td>\n",
       "      <td>0.0</td>\n",
       "      <td>0.0</td>\n",
       "      <td>0</td>\n",
       "      <td>1</td>\n",
       "      <td>No, borderline diabetes</td>\n",
       "      <td>0</td>\n",
       "      <td>Fair</td>\n",
       "      <td>5.0</td>\n",
       "      <td>0</td>\n",
       "      <td>1</td>\n",
       "      <td>0</td>\n",
       "    </tr>\n",
       "    <tr>\n",
       "      <th>13</th>\n",
       "      <td>0</td>\n",
       "      <td>28.15</td>\n",
       "      <td>0</td>\n",
       "      <td>0</td>\n",
       "      <td>0</td>\n",
       "      <td>7.0</td>\n",
       "      <td>0.0</td>\n",
       "      <td>1</td>\n",
       "      <td>1</td>\n",
       "      <td>No</td>\n",
       "      <td>0</td>\n",
       "      <td>Good</td>\n",
       "      <td>7.0</td>\n",
       "      <td>0</td>\n",
       "      <td>0</td>\n",
       "      <td>0</td>\n",
       "    </tr>\n",
       "    <tr>\n",
       "      <th>19</th>\n",
       "      <td>0</td>\n",
       "      <td>18.13</td>\n",
       "      <td>0</td>\n",
       "      <td>0</td>\n",
       "      <td>0</td>\n",
       "      <td>0.0</td>\n",
       "      <td>0.0</td>\n",
       "      <td>0</td>\n",
       "      <td>0</td>\n",
       "      <td>No</td>\n",
       "      <td>1</td>\n",
       "      <td>Excellent</td>\n",
       "      <td>8.0</td>\n",
       "      <td>0</td>\n",
       "      <td>0</td>\n",
       "      <td>1</td>\n",
       "    </tr>\n",
       "  </tbody>\n",
       "</table>\n",
       "</div>"
      ],
      "text/plain": [
       "    HeartDisease    BMI  Smoking  AlcoholDrinking  Stroke  PhysicalHealth  \\\n",
       "1              0  20.34        0                0       1             0.0   \n",
       "7              0  31.64        1                0       0             5.0   \n",
       "8              0  26.45        0                0       0             0.0   \n",
       "13             0  28.15        0                0       0             7.0   \n",
       "19             0  18.13        0                0       0             0.0   \n",
       "\n",
       "    MentalHealth  DiffWalking  Sex                 Diabetic  PhysicalActivity  \\\n",
       "1            0.0            0    1                       No                 1   \n",
       "7            0.0            1    1                      Yes                 0   \n",
       "8            0.0            0    1  No, borderline diabetes                 0   \n",
       "13           0.0            1    1                       No                 0   \n",
       "19           0.0            0    0                       No                 1   \n",
       "\n",
       "    GenHealth  SleepTime  Asthma  KidneyDisease  SkinCancer  \n",
       "1   Very good        7.0       0              0           0  \n",
       "7        Good        9.0       1              0           0  \n",
       "8        Fair        5.0       0              1           0  \n",
       "13       Good        7.0       0              0           0  \n",
       "19  Excellent        8.0       0              0           1  "
      ]
     },
     "execution_count": 20,
     "metadata": {},
     "output_type": "execute_result"
    }
   ],
   "source": [
    "#Non Yes or No case\n",
    "\n",
    "binary_yn_mapper = {\"Male\": 0,\"Female\": 1}\n",
    "\n",
    "database_r['Sex'] = database_r[\"Sex\"].replace(binary_yn_mapper)\n",
    "\n",
    "database_r.head()"
   ]
  },
  {
   "cell_type": "markdown",
   "id": "25fbbc01",
   "metadata": {},
   "source": [
    "# Categorical Ordinal Cases"
   ]
  },
  {
   "cell_type": "code",
   "execution_count": 21,
   "id": "46d136ce",
   "metadata": {},
   "outputs": [
    {
     "data": {
      "text/html": [
       "<div>\n",
       "<style scoped>\n",
       "    .dataframe tbody tr th:only-of-type {\n",
       "        vertical-align: middle;\n",
       "    }\n",
       "\n",
       "    .dataframe tbody tr th {\n",
       "        vertical-align: top;\n",
       "    }\n",
       "\n",
       "    .dataframe thead th {\n",
       "        text-align: right;\n",
       "    }\n",
       "</style>\n",
       "<table border=\"1\" class=\"dataframe\">\n",
       "  <thead>\n",
       "    <tr style=\"text-align: right;\">\n",
       "      <th></th>\n",
       "      <th>HeartDisease</th>\n",
       "      <th>BMI</th>\n",
       "      <th>Smoking</th>\n",
       "      <th>AlcoholDrinking</th>\n",
       "      <th>Stroke</th>\n",
       "      <th>PhysicalHealth</th>\n",
       "      <th>MentalHealth</th>\n",
       "      <th>DiffWalking</th>\n",
       "      <th>Sex</th>\n",
       "      <th>Diabetic</th>\n",
       "      <th>PhysicalActivity</th>\n",
       "      <th>GenHealth</th>\n",
       "      <th>SleepTime</th>\n",
       "      <th>Asthma</th>\n",
       "      <th>KidneyDisease</th>\n",
       "      <th>SkinCancer</th>\n",
       "    </tr>\n",
       "  </thead>\n",
       "  <tbody>\n",
       "    <tr>\n",
       "      <th>1</th>\n",
       "      <td>0</td>\n",
       "      <td>20.34</td>\n",
       "      <td>0</td>\n",
       "      <td>0</td>\n",
       "      <td>1</td>\n",
       "      <td>0.0</td>\n",
       "      <td>0.0</td>\n",
       "      <td>0</td>\n",
       "      <td>1</td>\n",
       "      <td>No</td>\n",
       "      <td>1</td>\n",
       "      <td>3</td>\n",
       "      <td>7.0</td>\n",
       "      <td>0</td>\n",
       "      <td>0</td>\n",
       "      <td>0</td>\n",
       "    </tr>\n",
       "    <tr>\n",
       "      <th>7</th>\n",
       "      <td>0</td>\n",
       "      <td>31.64</td>\n",
       "      <td>1</td>\n",
       "      <td>0</td>\n",
       "      <td>0</td>\n",
       "      <td>5.0</td>\n",
       "      <td>0.0</td>\n",
       "      <td>1</td>\n",
       "      <td>1</td>\n",
       "      <td>Yes</td>\n",
       "      <td>0</td>\n",
       "      <td>2</td>\n",
       "      <td>9.0</td>\n",
       "      <td>1</td>\n",
       "      <td>0</td>\n",
       "      <td>0</td>\n",
       "    </tr>\n",
       "    <tr>\n",
       "      <th>8</th>\n",
       "      <td>0</td>\n",
       "      <td>26.45</td>\n",
       "      <td>0</td>\n",
       "      <td>0</td>\n",
       "      <td>0</td>\n",
       "      <td>0.0</td>\n",
       "      <td>0.0</td>\n",
       "      <td>0</td>\n",
       "      <td>1</td>\n",
       "      <td>No, borderline diabetes</td>\n",
       "      <td>0</td>\n",
       "      <td>1</td>\n",
       "      <td>5.0</td>\n",
       "      <td>0</td>\n",
       "      <td>1</td>\n",
       "      <td>0</td>\n",
       "    </tr>\n",
       "    <tr>\n",
       "      <th>13</th>\n",
       "      <td>0</td>\n",
       "      <td>28.15</td>\n",
       "      <td>0</td>\n",
       "      <td>0</td>\n",
       "      <td>0</td>\n",
       "      <td>7.0</td>\n",
       "      <td>0.0</td>\n",
       "      <td>1</td>\n",
       "      <td>1</td>\n",
       "      <td>No</td>\n",
       "      <td>0</td>\n",
       "      <td>2</td>\n",
       "      <td>7.0</td>\n",
       "      <td>0</td>\n",
       "      <td>0</td>\n",
       "      <td>0</td>\n",
       "    </tr>\n",
       "    <tr>\n",
       "      <th>19</th>\n",
       "      <td>0</td>\n",
       "      <td>18.13</td>\n",
       "      <td>0</td>\n",
       "      <td>0</td>\n",
       "      <td>0</td>\n",
       "      <td>0.0</td>\n",
       "      <td>0.0</td>\n",
       "      <td>0</td>\n",
       "      <td>0</td>\n",
       "      <td>No</td>\n",
       "      <td>1</td>\n",
       "      <td>4</td>\n",
       "      <td>8.0</td>\n",
       "      <td>0</td>\n",
       "      <td>0</td>\n",
       "      <td>1</td>\n",
       "    </tr>\n",
       "  </tbody>\n",
       "</table>\n",
       "</div>"
      ],
      "text/plain": [
       "    HeartDisease    BMI  Smoking  AlcoholDrinking  Stroke  PhysicalHealth  \\\n",
       "1              0  20.34        0                0       1             0.0   \n",
       "7              0  31.64        1                0       0             5.0   \n",
       "8              0  26.45        0                0       0             0.0   \n",
       "13             0  28.15        0                0       0             7.0   \n",
       "19             0  18.13        0                0       0             0.0   \n",
       "\n",
       "    MentalHealth  DiffWalking  Sex                 Diabetic  PhysicalActivity  \\\n",
       "1            0.0            0    1                       No                 1   \n",
       "7            0.0            1    1                      Yes                 0   \n",
       "8            0.0            0    1  No, borderline diabetes                 0   \n",
       "13           0.0            1    1                       No                 0   \n",
       "19           0.0            0    0                       No                 1   \n",
       "\n",
       "    GenHealth  SleepTime  Asthma  KidneyDisease  SkinCancer  \n",
       "1           3        7.0       0              0           0  \n",
       "7           2        9.0       1              0           0  \n",
       "8           1        5.0       0              1           0  \n",
       "13          2        7.0       0              0           0  \n",
       "19          4        8.0       0              0           1  "
      ]
     },
     "execution_count": 21,
     "metadata": {},
     "output_type": "execute_result"
    }
   ],
   "source": [
    "genHealth_mapper = {\"Poor\": 0,\"Fair\": 1,\"Good\": 2,\"Very good\": 3,\"Excellent\": 4}\n",
    "database_r['GenHealth'] = database_r[\"GenHealth\"].replace(genHealth_mapper)\n",
    "\n",
    "database_r.head()"
   ]
  },
  {
   "cell_type": "code",
   "execution_count": 22,
   "id": "9e62d55d",
   "metadata": {},
   "outputs": [
    {
     "data": {
      "text/html": [
       "<div>\n",
       "<style scoped>\n",
       "    .dataframe tbody tr th:only-of-type {\n",
       "        vertical-align: middle;\n",
       "    }\n",
       "\n",
       "    .dataframe tbody tr th {\n",
       "        vertical-align: top;\n",
       "    }\n",
       "\n",
       "    .dataframe thead th {\n",
       "        text-align: right;\n",
       "    }\n",
       "</style>\n",
       "<table border=\"1\" class=\"dataframe\">\n",
       "  <thead>\n",
       "    <tr style=\"text-align: right;\">\n",
       "      <th></th>\n",
       "      <th>HeartDisease</th>\n",
       "      <th>BMI</th>\n",
       "      <th>Smoking</th>\n",
       "      <th>AlcoholDrinking</th>\n",
       "      <th>Stroke</th>\n",
       "      <th>PhysicalHealth</th>\n",
       "      <th>MentalHealth</th>\n",
       "      <th>DiffWalking</th>\n",
       "      <th>Sex</th>\n",
       "      <th>Diabetic</th>\n",
       "      <th>PhysicalActivity</th>\n",
       "      <th>GenHealth</th>\n",
       "      <th>SleepTime</th>\n",
       "      <th>Asthma</th>\n",
       "      <th>KidneyDisease</th>\n",
       "      <th>SkinCancer</th>\n",
       "    </tr>\n",
       "  </thead>\n",
       "  <tbody>\n",
       "    <tr>\n",
       "      <th>1</th>\n",
       "      <td>0</td>\n",
       "      <td>20.34</td>\n",
       "      <td>0</td>\n",
       "      <td>0</td>\n",
       "      <td>1</td>\n",
       "      <td>0.0</td>\n",
       "      <td>0.0</td>\n",
       "      <td>0</td>\n",
       "      <td>1</td>\n",
       "      <td>0</td>\n",
       "      <td>1</td>\n",
       "      <td>3</td>\n",
       "      <td>7.0</td>\n",
       "      <td>0</td>\n",
       "      <td>0</td>\n",
       "      <td>0</td>\n",
       "    </tr>\n",
       "    <tr>\n",
       "      <th>7</th>\n",
       "      <td>0</td>\n",
       "      <td>31.64</td>\n",
       "      <td>1</td>\n",
       "      <td>0</td>\n",
       "      <td>0</td>\n",
       "      <td>5.0</td>\n",
       "      <td>0.0</td>\n",
       "      <td>1</td>\n",
       "      <td>1</td>\n",
       "      <td>3</td>\n",
       "      <td>0</td>\n",
       "      <td>2</td>\n",
       "      <td>9.0</td>\n",
       "      <td>1</td>\n",
       "      <td>0</td>\n",
       "      <td>0</td>\n",
       "    </tr>\n",
       "    <tr>\n",
       "      <th>8</th>\n",
       "      <td>0</td>\n",
       "      <td>26.45</td>\n",
       "      <td>0</td>\n",
       "      <td>0</td>\n",
       "      <td>0</td>\n",
       "      <td>0.0</td>\n",
       "      <td>0.0</td>\n",
       "      <td>0</td>\n",
       "      <td>1</td>\n",
       "      <td>1</td>\n",
       "      <td>0</td>\n",
       "      <td>1</td>\n",
       "      <td>5.0</td>\n",
       "      <td>0</td>\n",
       "      <td>1</td>\n",
       "      <td>0</td>\n",
       "    </tr>\n",
       "    <tr>\n",
       "      <th>13</th>\n",
       "      <td>0</td>\n",
       "      <td>28.15</td>\n",
       "      <td>0</td>\n",
       "      <td>0</td>\n",
       "      <td>0</td>\n",
       "      <td>7.0</td>\n",
       "      <td>0.0</td>\n",
       "      <td>1</td>\n",
       "      <td>1</td>\n",
       "      <td>0</td>\n",
       "      <td>0</td>\n",
       "      <td>2</td>\n",
       "      <td>7.0</td>\n",
       "      <td>0</td>\n",
       "      <td>0</td>\n",
       "      <td>0</td>\n",
       "    </tr>\n",
       "    <tr>\n",
       "      <th>19</th>\n",
       "      <td>0</td>\n",
       "      <td>18.13</td>\n",
       "      <td>0</td>\n",
       "      <td>0</td>\n",
       "      <td>0</td>\n",
       "      <td>0.0</td>\n",
       "      <td>0.0</td>\n",
       "      <td>0</td>\n",
       "      <td>0</td>\n",
       "      <td>0</td>\n",
       "      <td>1</td>\n",
       "      <td>4</td>\n",
       "      <td>8.0</td>\n",
       "      <td>0</td>\n",
       "      <td>0</td>\n",
       "      <td>1</td>\n",
       "    </tr>\n",
       "  </tbody>\n",
       "</table>\n",
       "</div>"
      ],
      "text/plain": [
       "    HeartDisease    BMI  Smoking  AlcoholDrinking  Stroke  PhysicalHealth  \\\n",
       "1              0  20.34        0                0       1             0.0   \n",
       "7              0  31.64        1                0       0             5.0   \n",
       "8              0  26.45        0                0       0             0.0   \n",
       "13             0  28.15        0                0       0             7.0   \n",
       "19             0  18.13        0                0       0             0.0   \n",
       "\n",
       "    MentalHealth  DiffWalking  Sex  Diabetic  PhysicalActivity  GenHealth  \\\n",
       "1            0.0            0    1         0                 1          3   \n",
       "7            0.0            1    1         3                 0          2   \n",
       "8            0.0            0    1         1                 0          1   \n",
       "13           0.0            1    1         0                 0          2   \n",
       "19           0.0            0    0         0                 1          4   \n",
       "\n",
       "    SleepTime  Asthma  KidneyDisease  SkinCancer  \n",
       "1         7.0       0              0           0  \n",
       "7         9.0       1              0           0  \n",
       "8         5.0       0              1           0  \n",
       "13        7.0       0              0           0  \n",
       "19        8.0       0              0           1  "
      ]
     },
     "execution_count": 22,
     "metadata": {},
     "output_type": "execute_result"
    }
   ],
   "source": [
    "diabetic_mapper = {\"No\": 0,\"No, borderline diabetes\": 1,\"Yes (during pregnancy)\": 2,\"Yes\": 3}\n",
    "database_r['Diabetic'] = database_r[\"Diabetic\"].replace(diabetic_mapper)\n",
    "\n",
    "database_r.head()"
   ]
  },
  {
   "cell_type": "markdown",
   "id": "a6cfb8c3",
   "metadata": {},
   "source": [
    "Finished the data pre-process"
   ]
  },
  {
   "cell_type": "markdown",
   "id": "11101da4",
   "metadata": {},
   "source": [
    "# Separating Training and Testing data"
   ]
  },
  {
   "cell_type": "code",
   "execution_count": 23,
   "id": "9382ad77",
   "metadata": {},
   "outputs": [],
   "source": [
    "previsors = database_r.iloc[:,1:16].values\n",
    "class_ = database_r.iloc[:,0].values"
   ]
  },
  {
   "cell_type": "code",
   "execution_count": 24,
   "id": "82cdec21",
   "metadata": {},
   "outputs": [],
   "source": [
    "#train, test_and_validate = train_test_split(database_r, test_size=0.2, stratify = database_r['HeartDisease'])\n",
    "X_treinamento, X_teste, y_treinamento, y_teste = train_test_split(previsors,\n",
    "                                                                  class_,\n",
    "                                                                  test_size = 0.3,\n",
    "                                                                  random_state = 30, stratify = class_)\n"
   ]
  },
  {
   "cell_type": "markdown",
   "id": "24d24aad",
   "metadata": {},
   "source": [
    "# Training Data (With RandomForestClassifier)"
   ]
  },
  {
   "cell_type": "code",
   "execution_count": 59,
   "id": "2e2d27fb",
   "metadata": {},
   "outputs": [
    {
     "data": {
      "text/plain": [
       "RandomForestClassifier(n_estimators=300)"
      ]
     },
     "execution_count": 59,
     "metadata": {},
     "output_type": "execute_result"
    }
   ],
   "source": [
    "floresta = RandomForestClassifier(n_estimators = 300)\n",
    "floresta.fit(X_treinamento, y_treinamento)"
   ]
  },
  {
   "cell_type": "markdown",
   "id": "c3644757",
   "metadata": {},
   "source": [
    "# Generate predictions"
   ]
  },
  {
   "cell_type": "code",
   "execution_count": 60,
   "id": "16a68006",
   "metadata": {},
   "outputs": [],
   "source": [
    "prevision = floresta.predict(X_teste)\n"
   ]
  },
  {
   "cell_type": "markdown",
   "id": "48519a0e",
   "metadata": {},
   "source": [
    "# Analysing Model Result(Confusion Matrix)"
   ]
  },
  {
   "cell_type": "code",
   "execution_count": 61,
   "id": "fc681b91",
   "metadata": {},
   "outputs": [
    {
     "name": "stdout",
     "output_type": "stream",
     "text": [
      "[[5100  511]\n",
      " [1358  277]]\n",
      "0.7420645873585426\n"
     ]
    }
   ],
   "source": [
    "confusao = confusion_matrix(y_teste, prevision)\n",
    "print(confusao)\n",
    "correct_t = accuracy_score(y_teste, prevision)\n",
    "print(correct_t)"
   ]
  },
  {
   "cell_type": "code",
   "execution_count": 62,
   "id": "152d0332",
   "metadata": {},
   "outputs": [
    {
     "data": {
      "image/png": "[encoded data removed]",
      "text/plain": [
       "<Figure size 432x288 with 2 Axes>"
      ]
     },
     "metadata": {
      "needs_background": "light"
     },
     "output_type": "display_data"
    }
   ],
   "source": [
    "conf_m = sns.heatmap(confusao, annot=True, cmap='Blues')\n",
    "conf_m.set_title('RandomForest Confusion Matrix\\n\\n');\n",
    "conf_m.set_xlabel('\\nPredicted')\n",
    "conf_m.set_ylabel('Actual ');\n",
    "conf_m.xaxis.set_ticklabels(['False','True'])\n",
    "conf_m.yaxis.set_ticklabels(['False','True'])\n",
    "plt.show()"
   ]
  },
  {
   "cell_type": "markdown",
   "id": "3e661ac1",
   "metadata": {},
   "source": [
    "# Training Data (w Naives BAYes)\n"
   ]
  },
  {
   "cell_type": "code",
   "execution_count": 18,
   "id": "2fce2461",
   "metadata": {},
   "outputs": [],
   "source": [
    "from sklearn.naive_bayes import GaussianNB"
   ]
  },
  {
   "cell_type": "code",
   "execution_count": 19,
   "id": "481b3b85",
   "metadata": {},
   "outputs": [
    {
     "data": {
      "text/plain": [
       "GaussianNB()"
      ]
     },
     "execution_count": 19,
     "metadata": {},
     "output_type": "execute_result"
    }
   ],
   "source": [
    "naive_bayes = GaussianNB()\n",
    "naive_bayes.fit(X_treinamento, y_treinamento)\n"
   ]
  },
  {
   "cell_type": "markdown",
   "id": "729484aa",
   "metadata": {},
   "source": [
    "# Generate predictions"
   ]
  },
  {
   "cell_type": "code",
   "execution_count": 20,
   "id": "303c3294",
   "metadata": {},
   "outputs": [],
   "source": [
    "prevision = naive_bayes.predict(X_teste)"
   ]
  },
  {
   "cell_type": "markdown",
   "id": "a2a99b9c",
   "metadata": {},
   "source": [
    "# Analysing Model Result(Confusion Matrix)"
   ]
  },
  {
   "cell_type": "code",
   "execution_count": 21,
   "id": "090b1b1d",
   "metadata": {},
   "outputs": [],
   "source": [
    "confusion_m = confusion_matrix(y_teste, prevision)"
   ]
  },
  {
   "cell_type": "code",
   "execution_count": 22,
   "id": "63deca1a",
   "metadata": {},
   "outputs": [
    {
     "name": "stdout",
     "output_type": "stream",
     "text": [
      "0.7132210874965498\n"
     ]
    }
   ],
   "source": [
    "correct_t = accuracy_score(y_teste, prevision)\n",
    "print(correct_t)"
   ]
  },
  {
   "cell_type": "code",
   "execution_count": 23,
   "id": "e6694f57",
   "metadata": {},
   "outputs": [
    {
     "data": {
      "image/png": "[encoded data removed]",
      "text/plain": [
       "<Figure size 432x288 with 2 Axes>"
      ]
     },
     "metadata": {
      "needs_background": "light"
     },
     "output_type": "display_data"
    }
   ],
   "source": [
    "conf_m = sns.heatmap(confusion_m, annot=True, cmap='hot_r')\n",
    "conf_m.set_title('Naive_bayes Confusion Matrix\\n\\n');\n",
    "conf_m.set_xlabel('\\nPredicted')\n",
    "conf_m.set_ylabel('Actual ');\n",
    "conf_m.xaxis.set_ticklabels(['False','True'])\n",
    "conf_m.yaxis.set_ticklabels(['False','True'])\n",
    "plt.show()"
   ]
  },
  {
   "cell_type": "markdown",
   "id": "f763cc99",
   "metadata": {},
   "source": [
    "## Analyzing the correlation between resources and classes"
   ]
  },
  {
   "cell_type": "code",
   "execution_count": 25,
   "id": "6b839ba0",
   "metadata": {},
   "outputs": [],
   "source": [
    "cols_n = database_r.columns.tolist()"
   ]
  },
  {
   "cell_type": "code",
   "execution_count": 30,
   "id": "89d7e60c",
   "metadata": {},
   "outputs": [
    {
     "data": {
      "image/png": "[encoded data removed]",
      "text/plain": [
       "<Figure size 1008x1008 with 2 Axes>"
      ]
     },
     "metadata": {
      "needs_background": "light"
     },
     "output_type": "display_data"
    }
   ],
   "source": [
    "correl_all = database_r.corr()\n",
    "f_g, map_cl = plt.subplots(figsize = (14,14))\n",
    "colored_m= sns.color_palette(\"BrBG\", 10)\n",
    "sns.heatmap(correl_all,\n",
    "           cmap = colored_m,\n",
    "           annot = True)\n",
    "map_cl.set_yticklabels(cols_n)\n",
    "plt.show()"
   ]
  },
  {
   "cell_type": "markdown",
   "id": "14f9c1a5",
   "metadata": {},
   "source": [
    "## Analyzing the results it was possible to infer that using the RandomForestClassifier algorithm with a hit rate of 74%"
   ]
  },
  {
   "cell_type": "markdown",
   "id": "32aaae96",
   "metadata": {},
   "source": [
    "## applying the KNeighborsClassifier for the model"
   ]
  },
  {
   "cell_type": "code",
   "execution_count": 15,
   "id": "70cbdbe6",
   "metadata": {},
   "outputs": [],
   "source": [
    "from sklearn.neighbors import KNeighborsClassifier\n",
    "from sklearn import datasets"
   ]
  },
  {
   "cell_type": "code",
   "execution_count": 16,
   "id": "f59a86b3",
   "metadata": {},
   "outputs": [
    {
     "name": "stderr",
     "output_type": "stream",
     "text": [
      "C:\\Users\\lfcct\\anaconda3\\lib\\site-packages\\sklearn\\utils\\validation.py:70: FutureWarning: Pass return_X_y=heart_2020_cleaned.csv as keyword args. From version 1.0 (renaming of 0.25) passing these as positional arguments will result in an error\n",
      "  warnings.warn(f\"Pass {args_msg} as keyword args. From version \"\n"
     ]
    }
   ],
   "source": [
    "iris = datasets.load_iris('heart_2020_cleaned.csv')"
   ]
  },
  {
   "cell_type": "markdown",
   "id": "ca2c58b8",
   "metadata": {},
   "source": [
    "# Training model(KNeighborsClassifier)"
   ]
  },
  {
   "cell_type": "code",
   "execution_count": 25,
   "id": "ee64dcaf",
   "metadata": {},
   "outputs": [
    {
     "data": {
      "text/plain": [
       "KNeighborsClassifier(n_neighbors=3)"
      ]
     },
     "execution_count": 25,
     "metadata": {},
     "output_type": "execute_result"
    }
   ],
   "source": [
    "k_model = KNeighborsClassifier(n_neighbors = 3)\n",
    "k_model.fit(X_treinamento, y_treinamento)\n"
   ]
  },
  {
   "cell_type": "markdown",
   "id": "91491513",
   "metadata": {},
   "source": [
    "# Generate predictions"
   ]
  },
  {
   "cell_type": "code",
   "execution_count": 26,
   "id": "16e1651b",
   "metadata": {},
   "outputs": [],
   "source": [
    "prevision = k_model.predict(X_teste)"
   ]
  },
  {
   "cell_type": "markdown",
   "id": "da716bf7",
   "metadata": {},
   "source": [
    "# Analysing Model Result(Confusion Matrix)"
   ]
  },
  {
   "cell_type": "code",
   "execution_count": 27,
   "id": "e8bb46d6",
   "metadata": {},
   "outputs": [],
   "source": [
    "confusion_m = confusion_matrix(y_teste, prevision)"
   ]
  },
  {
   "cell_type": "code",
   "execution_count": 30,
   "id": "39eef9b1",
   "metadata": {},
   "outputs": [
    {
     "data": {
      "text/plain": [
       "0.7243996687827767"
      ]
     },
     "execution_count": 30,
     "metadata": {},
     "output_type": "execute_result"
    }
   ],
   "source": [
    "correct_t_Km = accuracy_score(y_teste, prevision)\n",
    "correct_t_Km"
   ]
  },
  {
   "cell_type": "code",
   "execution_count": 34,
   "id": "6f1bb23c",
   "metadata": {},
   "outputs": [
    {
     "data": {
      "image/png": "[encoded data removed]",
      "text/plain": [
       "<Figure size 432x288 with 2 Axes>"
      ]
     },
     "metadata": {
      "needs_background": "light"
     },
     "output_type": "display_data"
    }
   ],
   "source": [
    "conf_m = sns.heatmap(confusion_m, annot=True, cmap='rocket')\n",
    "conf_m.set_title('KNeighbors Confusion Matrix\\n\\n');\n",
    "conf_m.set_xlabel('\\nPredicted')\n",
    "conf_m.set_ylabel('Actual ');\n",
    "conf_m.xaxis.set_ticklabels(['False','True'])\n",
    "conf_m.yaxis.set_ticklabels(['False','True'])\n",
    "plt.show()"
   ]
  },
  {
   "cell_type": "code",
   "execution_count": null,
   "id": "7bd0d68c",
   "metadata": {},
   "outputs": [],
   "source": []
  }
 ],
 "metadata": {
  "kernelspec": {
   "display_name": "Python 3 (ipykernel)",
   "language": "python",
   "name": "python3"
  },
  "language_info": {
   "codemirror_mode": {
    "name": "ipython",
    "version": 3
   },
   "file_extension": ".py",
   "mimetype": "text/x-python",
   "name": "python",
   "nbconvert_exporter": "python",
   "pygments_lexer": "ipython3",
   "version": "3.9.7"
  }
 },
 "nbformat": 4,
 "nbformat_minor": 5
}
